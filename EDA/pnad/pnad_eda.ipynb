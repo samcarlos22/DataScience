{
 "cells": [
  {
   "cell_type": "code",
   "execution_count": 1,
   "id": "optimum-miracle",
   "metadata": {},
   "outputs": [],
   "source": [
    "import pandas as pd\n",
    "import numpy as np\n",
    "import matplotlib.pyplot as plt\n",
    "import seaborn as sns\n",
    "import re\n",
    "import math"
   ]
  },
  {
   "cell_type": "markdown",
   "id": "regional-replacement",
   "metadata": {},
   "source": [
    "# Continuous National Household Sample Survey - Continuous PNAD\n",
    "\n",
    "The Continuous National Household Sample Survey (PNADc) is a survey carried out by the Brazilian Institute of Geography and Statistics (IBGE) on a sample of Brazilian households that investigates various socioeconomic characteristics of society, such as population, education, work, income, housing, social security, migration, fertility, marriage, health, nutrition, etc., among others, that are included according to the Brazilian government needs. The research is carried out in all regions of Brazil, including the rural areas of Rondônia, Acre, Amazonas, Roraima, Pará and Amapá.\n",
    "\n",
    "More info and the dataset can be found at: https://www.ibge.gov.br/en/statistics/multi-domain/living-conditions-poverty-and-inequality/18083-annual-dissemination-pnadc3.html?=&t=o-que-e]\n",
    "\n",
    "The full dataset contains over 300 variables. So, for the purpose of basic income related analysis, only 10 variables were croped from years 2019 - 2021 datasets."
   ]
  },
  {
   "cell_type": "markdown",
   "id": "resistant-virtue",
   "metadata": {},
   "source": [
    "## Load dataset"
   ]
  },
  {
   "cell_type": "code",
   "execution_count": 2,
   "id": "engaging-compensation",
   "metadata": {},
   "outputs": [],
   "source": [
    "df = pd.read_csv(\"pnad_clean.csv\")"
   ]
  },
  {
   "cell_type": "markdown",
   "id": "forbidden-fashion",
   "metadata": {},
   "source": [
    "## Data overview"
   ]
  },
  {
   "cell_type": "code",
   "execution_count": 3,
   "id": "bored-webster",
   "metadata": {},
   "outputs": [
    {
     "data": {
      "text/html": [
       "<div>\n",
       "<style scoped>\n",
       "    .dataframe tbody tr th:only-of-type {\n",
       "        vertical-align: middle;\n",
       "    }\n",
       "\n",
       "    .dataframe tbody tr th {\n",
       "        vertical-align: top;\n",
       "    }\n",
       "\n",
       "    .dataframe thead th {\n",
       "        text-align: right;\n",
       "    }\n",
       "</style>\n",
       "<table border=\"1\" class=\"dataframe\">\n",
       "  <thead>\n",
       "    <tr style=\"text-align: right;\">\n",
       "      <th></th>\n",
       "      <th>year</th>\n",
       "      <th>uf</th>\n",
       "      <th>sex</th>\n",
       "      <th>age</th>\n",
       "      <th>skin_color</th>\n",
       "      <th>literate</th>\n",
       "      <th>years_in_education</th>\n",
       "      <th>income</th>\n",
       "      <th>weekly_working_hours</th>\n",
       "      <th>sample_weight</th>\n",
       "    </tr>\n",
       "  </thead>\n",
       "  <tbody>\n",
       "    <tr>\n",
       "      <th>0</th>\n",
       "      <td>2021</td>\n",
       "      <td>Rondônia</td>\n",
       "      <td>Female</td>\n",
       "      <td>39</td>\n",
       "      <td>Brown</td>\n",
       "      <td>Yes</td>\n",
       "      <td>5.0</td>\n",
       "      <td>1045.0</td>\n",
       "      <td>40.0</td>\n",
       "      <td>107.066353</td>\n",
       "    </tr>\n",
       "    <tr>\n",
       "      <th>1</th>\n",
       "      <td>2021</td>\n",
       "      <td>Rondônia</td>\n",
       "      <td>Female</td>\n",
       "      <td>20</td>\n",
       "      <td>Brown</td>\n",
       "      <td>Yes</td>\n",
       "      <td>10.0</td>\n",
       "      <td>1045.0</td>\n",
       "      <td>40.0</td>\n",
       "      <td>107.066353</td>\n",
       "    </tr>\n",
       "    <tr>\n",
       "      <th>2</th>\n",
       "      <td>2021</td>\n",
       "      <td>Rondônia</td>\n",
       "      <td>Female</td>\n",
       "      <td>16</td>\n",
       "      <td>Brown</td>\n",
       "      <td>Yes</td>\n",
       "      <td>10.0</td>\n",
       "      <td>NaN</td>\n",
       "      <td>NaN</td>\n",
       "      <td>107.066353</td>\n",
       "    </tr>\n",
       "    <tr>\n",
       "      <th>3</th>\n",
       "      <td>2021</td>\n",
       "      <td>Rondônia</td>\n",
       "      <td>Male</td>\n",
       "      <td>73</td>\n",
       "      <td>Brown</td>\n",
       "      <td>Yes</td>\n",
       "      <td>12.0</td>\n",
       "      <td>NaN</td>\n",
       "      <td>NaN</td>\n",
       "      <td>107.066353</td>\n",
       "    </tr>\n",
       "    <tr>\n",
       "      <th>4</th>\n",
       "      <td>2021</td>\n",
       "      <td>Rondônia</td>\n",
       "      <td>Female</td>\n",
       "      <td>59</td>\n",
       "      <td>Brown</td>\n",
       "      <td>Yes</td>\n",
       "      <td>12.0</td>\n",
       "      <td>NaN</td>\n",
       "      <td>NaN</td>\n",
       "      <td>107.066353</td>\n",
       "    </tr>\n",
       "  </tbody>\n",
       "</table>\n",
       "</div>"
      ],
      "text/plain": [
       "   year        uf     sex  age skin_color literate  years_in_education  \\\n",
       "0  2021  Rondônia  Female   39      Brown      Yes                 5.0   \n",
       "1  2021  Rondônia  Female   20      Brown      Yes                10.0   \n",
       "2  2021  Rondônia  Female   16      Brown      Yes                10.0   \n",
       "3  2021  Rondônia    Male   73      Brown      Yes                12.0   \n",
       "4  2021  Rondônia  Female   59      Brown      Yes                12.0   \n",
       "\n",
       "   income  weekly_working_hours  sample_weight  \n",
       "0  1045.0                  40.0     107.066353  \n",
       "1  1045.0                  40.0     107.066353  \n",
       "2     NaN                   NaN     107.066353  \n",
       "3     NaN                   NaN     107.066353  \n",
       "4     NaN                   NaN     107.066353  "
      ]
     },
     "execution_count": 3,
     "metadata": {},
     "output_type": "execute_result"
    }
   ],
   "source": [
    "pnad = df.copy()\n",
    "pnad.head()"
   ]
  },
  {
   "cell_type": "code",
   "execution_count": 4,
   "id": "6b02677c-b579-4c57-b0f1-3613e24fa791",
   "metadata": {},
   "outputs": [
    {
     "data": {
      "text/html": [
       "<div>\n",
       "<style scoped>\n",
       "    .dataframe tbody tr th:only-of-type {\n",
       "        vertical-align: middle;\n",
       "    }\n",
       "\n",
       "    .dataframe tbody tr th {\n",
       "        vertical-align: top;\n",
       "    }\n",
       "\n",
       "    .dataframe thead th {\n",
       "        text-align: right;\n",
       "    }\n",
       "</style>\n",
       "<table border=\"1\" class=\"dataframe\">\n",
       "  <thead>\n",
       "    <tr style=\"text-align: right;\">\n",
       "      <th></th>\n",
       "      <th>year</th>\n",
       "      <th>uf</th>\n",
       "      <th>sex</th>\n",
       "      <th>age</th>\n",
       "      <th>skin_color</th>\n",
       "      <th>literate</th>\n",
       "      <th>years_in_education</th>\n",
       "      <th>income</th>\n",
       "      <th>weekly_working_hours</th>\n",
       "      <th>sample_weight</th>\n",
       "    </tr>\n",
       "  </thead>\n",
       "  <tbody>\n",
       "    <tr>\n",
       "      <th>125</th>\n",
       "      <td>2021</td>\n",
       "      <td>Rondônia</td>\n",
       "      <td>Female</td>\n",
       "      <td>13</td>\n",
       "      <td>Brown</td>\n",
       "      <td>Yes</td>\n",
       "      <td>7.0</td>\n",
       "      <td>NaN</td>\n",
       "      <td>NaN</td>\n",
       "      <td>281.776318</td>\n",
       "    </tr>\n",
       "    <tr>\n",
       "      <th>126</th>\n",
       "      <td>2021</td>\n",
       "      <td>Rondônia</td>\n",
       "      <td>Female</td>\n",
       "      <td>13</td>\n",
       "      <td>Brown</td>\n",
       "      <td>Yes</td>\n",
       "      <td>7.0</td>\n",
       "      <td>NaN</td>\n",
       "      <td>NaN</td>\n",
       "      <td>281.776318</td>\n",
       "    </tr>\n",
       "    <tr>\n",
       "      <th>140</th>\n",
       "      <td>2021</td>\n",
       "      <td>Rondônia</td>\n",
       "      <td>Female</td>\n",
       "      <td>0</td>\n",
       "      <td>White</td>\n",
       "      <td>NaN</td>\n",
       "      <td>NaN</td>\n",
       "      <td>NaN</td>\n",
       "      <td>NaN</td>\n",
       "      <td>203.841617</td>\n",
       "    </tr>\n",
       "    <tr>\n",
       "      <th>141</th>\n",
       "      <td>2021</td>\n",
       "      <td>Rondônia</td>\n",
       "      <td>Female</td>\n",
       "      <td>0</td>\n",
       "      <td>White</td>\n",
       "      <td>NaN</td>\n",
       "      <td>NaN</td>\n",
       "      <td>NaN</td>\n",
       "      <td>NaN</td>\n",
       "      <td>203.841617</td>\n",
       "    </tr>\n",
       "    <tr>\n",
       "      <th>683</th>\n",
       "      <td>2021</td>\n",
       "      <td>Rondônia</td>\n",
       "      <td>Female</td>\n",
       "      <td>15</td>\n",
       "      <td>Brown</td>\n",
       "      <td>Yes</td>\n",
       "      <td>9.0</td>\n",
       "      <td>NaN</td>\n",
       "      <td>NaN</td>\n",
       "      <td>157.161742</td>\n",
       "    </tr>\n",
       "    <tr>\n",
       "      <th>...</th>\n",
       "      <td>...</td>\n",
       "      <td>...</td>\n",
       "      <td>...</td>\n",
       "      <td>...</td>\n",
       "      <td>...</td>\n",
       "      <td>...</td>\n",
       "      <td>...</td>\n",
       "      <td>...</td>\n",
       "      <td>...</td>\n",
       "      <td>...</td>\n",
       "    </tr>\n",
       "    <tr>\n",
       "      <th>1465703</th>\n",
       "      <td>2021</td>\n",
       "      <td>Distrito Federal</td>\n",
       "      <td>Male</td>\n",
       "      <td>13</td>\n",
       "      <td>White</td>\n",
       "      <td>Yes</td>\n",
       "      <td>6.0</td>\n",
       "      <td>NaN</td>\n",
       "      <td>NaN</td>\n",
       "      <td>225.128002</td>\n",
       "    </tr>\n",
       "    <tr>\n",
       "      <th>1465753</th>\n",
       "      <td>2021</td>\n",
       "      <td>Distrito Federal</td>\n",
       "      <td>Female</td>\n",
       "      <td>28</td>\n",
       "      <td>Black</td>\n",
       "      <td>Yes</td>\n",
       "      <td>15.0</td>\n",
       "      <td>2800.0</td>\n",
       "      <td>40.0</td>\n",
       "      <td>355.338844</td>\n",
       "    </tr>\n",
       "    <tr>\n",
       "      <th>1465768</th>\n",
       "      <td>2021</td>\n",
       "      <td>Distrito Federal</td>\n",
       "      <td>Female</td>\n",
       "      <td>28</td>\n",
       "      <td>Black</td>\n",
       "      <td>Yes</td>\n",
       "      <td>15.0</td>\n",
       "      <td>2800.0</td>\n",
       "      <td>40.0</td>\n",
       "      <td>355.338844</td>\n",
       "    </tr>\n",
       "    <tr>\n",
       "      <th>1466305</th>\n",
       "      <td>2021</td>\n",
       "      <td>Distrito Federal</td>\n",
       "      <td>Female</td>\n",
       "      <td>18</td>\n",
       "      <td>Black</td>\n",
       "      <td>Yes</td>\n",
       "      <td>12.0</td>\n",
       "      <td>NaN</td>\n",
       "      <td>10.0</td>\n",
       "      <td>473.271230</td>\n",
       "    </tr>\n",
       "    <tr>\n",
       "      <th>1466306</th>\n",
       "      <td>2021</td>\n",
       "      <td>Distrito Federal</td>\n",
       "      <td>Female</td>\n",
       "      <td>18</td>\n",
       "      <td>Black</td>\n",
       "      <td>Yes</td>\n",
       "      <td>12.0</td>\n",
       "      <td>NaN</td>\n",
       "      <td>10.0</td>\n",
       "      <td>473.271230</td>\n",
       "    </tr>\n",
       "  </tbody>\n",
       "</table>\n",
       "<p>6541 rows × 10 columns</p>\n",
       "</div>"
      ],
      "text/plain": [
       "         year                uf     sex  age skin_color literate  \\\n",
       "125      2021          Rondônia  Female   13      Brown      Yes   \n",
       "126      2021          Rondônia  Female   13      Brown      Yes   \n",
       "140      2021          Rondônia  Female    0      White      NaN   \n",
       "141      2021          Rondônia  Female    0      White      NaN   \n",
       "683      2021          Rondônia  Female   15      Brown      Yes   \n",
       "...       ...               ...     ...  ...        ...      ...   \n",
       "1465703  2021  Distrito Federal    Male   13      White      Yes   \n",
       "1465753  2021  Distrito Federal  Female   28      Black      Yes   \n",
       "1465768  2021  Distrito Federal  Female   28      Black      Yes   \n",
       "1466305  2021  Distrito Federal  Female   18      Black      Yes   \n",
       "1466306  2021  Distrito Federal  Female   18      Black      Yes   \n",
       "\n",
       "         years_in_education  income  weekly_working_hours  sample_weight  \n",
       "125                     7.0     NaN                   NaN     281.776318  \n",
       "126                     7.0     NaN                   NaN     281.776318  \n",
       "140                     NaN     NaN                   NaN     203.841617  \n",
       "141                     NaN     NaN                   NaN     203.841617  \n",
       "683                     9.0     NaN                   NaN     157.161742  \n",
       "...                     ...     ...                   ...            ...  \n",
       "1465703                 6.0     NaN                   NaN     225.128002  \n",
       "1465753                15.0  2800.0                  40.0     355.338844  \n",
       "1465768                15.0  2800.0                  40.0     355.338844  \n",
       "1466305                12.0     NaN                  10.0     473.271230  \n",
       "1466306                12.0     NaN                  10.0     473.271230  \n",
       "\n",
       "[6541 rows x 10 columns]"
      ]
     },
     "execution_count": 4,
     "metadata": {},
     "output_type": "execute_result"
    }
   ],
   "source": [
    "pnad[pnad.duplicated(keep=False)]"
   ]
  },
  {
   "cell_type": "code",
   "execution_count": 5,
   "id": "ca25a917-6e10-4000-a0f7-101696ee9c51",
   "metadata": {},
   "outputs": [
    {
     "data": {
      "text/plain": [
       "year                    0.000000\n",
       "uf                      0.000000\n",
       "sex                     0.000000\n",
       "age                     0.000000\n",
       "skin_color              0.000000\n",
       "literate                0.055769\n",
       "years_in_education      0.055769\n",
       "income                  0.615561\n",
       "weekly_working_hours    0.601007\n",
       "sample_weight           0.000000\n",
       "dtype: float64"
      ]
     },
     "execution_count": 5,
     "metadata": {},
     "output_type": "execute_result"
    }
   ],
   "source": [
    "pnad.isna().sum() / pnad.shape[0]"
   ]
  },
  {
   "cell_type": "code",
   "execution_count": 6,
   "id": "competitive-dubai",
   "metadata": {},
   "outputs": [
    {
     "data": {
      "text/plain": [
       "(1466395, 10)"
      ]
     },
     "execution_count": 6,
     "metadata": {},
     "output_type": "execute_result"
    }
   ],
   "source": [
    "pnad.shape"
   ]
  },
  {
   "cell_type": "code",
   "execution_count": 7,
   "id": "confirmed-netscape",
   "metadata": {},
   "outputs": [
    {
     "data": {
      "text/html": [
       "<div>\n",
       "<style scoped>\n",
       "    .dataframe tbody tr th:only-of-type {\n",
       "        vertical-align: middle;\n",
       "    }\n",
       "\n",
       "    .dataframe tbody tr th {\n",
       "        vertical-align: top;\n",
       "    }\n",
       "\n",
       "    .dataframe thead th {\n",
       "        text-align: right;\n",
       "    }\n",
       "</style>\n",
       "<table border=\"1\" class=\"dataframe\">\n",
       "  <thead>\n",
       "    <tr style=\"text-align: right;\">\n",
       "      <th></th>\n",
       "      <th>year</th>\n",
       "      <th>age</th>\n",
       "      <th>years_in_education</th>\n",
       "      <th>income</th>\n",
       "      <th>weekly_working_hours</th>\n",
       "      <th>sample_weight</th>\n",
       "    </tr>\n",
       "  </thead>\n",
       "  <tbody>\n",
       "    <tr>\n",
       "      <th>count</th>\n",
       "      <td>1.466395e+06</td>\n",
       "      <td>1.466395e+06</td>\n",
       "      <td>1.384616e+06</td>\n",
       "      <td>563740.000000</td>\n",
       "      <td>585082.000000</td>\n",
       "      <td>1.466395e+06</td>\n",
       "    </tr>\n",
       "    <tr>\n",
       "      <th>mean</th>\n",
       "      <td>2.020758e+03</td>\n",
       "      <td>3.689794e+01</td>\n",
       "      <td>8.478837e+00</td>\n",
       "      <td>2247.115236</td>\n",
       "      <td>36.974209</td>\n",
       "      <td>5.785415e+02</td>\n",
       "    </tr>\n",
       "    <tr>\n",
       "      <th>std</th>\n",
       "      <td>4.285277e-01</td>\n",
       "      <td>2.198684e+01</td>\n",
       "      <td>4.885813e+00</td>\n",
       "      <td>3798.093430</td>\n",
       "      <td>14.509763</td>\n",
       "      <td>7.373934e+02</td>\n",
       "    </tr>\n",
       "    <tr>\n",
       "      <th>min</th>\n",
       "      <td>2.020000e+03</td>\n",
       "      <td>0.000000e+00</td>\n",
       "      <td>0.000000e+00</td>\n",
       "      <td>0.000000</td>\n",
       "      <td>0.000000</td>\n",
       "      <td>3.130796e+00</td>\n",
       "    </tr>\n",
       "    <tr>\n",
       "      <th>25%</th>\n",
       "      <td>2.021000e+03</td>\n",
       "      <td>1.800000e+01</td>\n",
       "      <td>5.000000e+00</td>\n",
       "      <td>960.000000</td>\n",
       "      <td>30.000000</td>\n",
       "      <td>2.119707e+02</td>\n",
       "    </tr>\n",
       "    <tr>\n",
       "      <th>50%</th>\n",
       "      <td>2.021000e+03</td>\n",
       "      <td>3.600000e+01</td>\n",
       "      <td>9.000000e+00</td>\n",
       "      <td>1350.000000</td>\n",
       "      <td>40.000000</td>\n",
       "      <td>3.774626e+02</td>\n",
       "    </tr>\n",
       "    <tr>\n",
       "      <th>75%</th>\n",
       "      <td>2.021000e+03</td>\n",
       "      <td>5.400000e+01</td>\n",
       "      <td>1.200000e+01</td>\n",
       "      <td>2400.000000</td>\n",
       "      <td>44.000000</td>\n",
       "      <td>6.827572e+02</td>\n",
       "    </tr>\n",
       "    <tr>\n",
       "      <th>max</th>\n",
       "      <td>2.021000e+03</td>\n",
       "      <td>1.120000e+02</td>\n",
       "      <td>1.600000e+01</td>\n",
       "      <td>310000.000000</td>\n",
       "      <td>120.000000</td>\n",
       "      <td>5.338270e+04</td>\n",
       "    </tr>\n",
       "  </tbody>\n",
       "</table>\n",
       "</div>"
      ],
      "text/plain": [
       "               year           age  years_in_education         income  \\\n",
       "count  1.466395e+06  1.466395e+06        1.384616e+06  563740.000000   \n",
       "mean   2.020758e+03  3.689794e+01        8.478837e+00    2247.115236   \n",
       "std    4.285277e-01  2.198684e+01        4.885813e+00    3798.093430   \n",
       "min    2.020000e+03  0.000000e+00        0.000000e+00       0.000000   \n",
       "25%    2.021000e+03  1.800000e+01        5.000000e+00     960.000000   \n",
       "50%    2.021000e+03  3.600000e+01        9.000000e+00    1350.000000   \n",
       "75%    2.021000e+03  5.400000e+01        1.200000e+01    2400.000000   \n",
       "max    2.021000e+03  1.120000e+02        1.600000e+01  310000.000000   \n",
       "\n",
       "       weekly_working_hours  sample_weight  \n",
       "count         585082.000000   1.466395e+06  \n",
       "mean              36.974209   5.785415e+02  \n",
       "std               14.509763   7.373934e+02  \n",
       "min                0.000000   3.130796e+00  \n",
       "25%               30.000000   2.119707e+02  \n",
       "50%               40.000000   3.774626e+02  \n",
       "75%               44.000000   6.827572e+02  \n",
       "max              120.000000   5.338270e+04  "
      ]
     },
     "execution_count": 7,
     "metadata": {},
     "output_type": "execute_result"
    }
   ],
   "source": [
    "pnad.describe()"
   ]
  },
  {
   "cell_type": "code",
   "execution_count": 8,
   "id": "contrary-helen",
   "metadata": {},
   "outputs": [
    {
     "data": {
      "text/plain": [
       "year                      int64\n",
       "uf                       object\n",
       "sex                      object\n",
       "age                       int64\n",
       "skin_color               object\n",
       "literate                 object\n",
       "years_in_education      float64\n",
       "income                  float64\n",
       "weekly_working_hours    float64\n",
       "sample_weight           float64\n",
       "dtype: object"
      ]
     },
     "execution_count": 8,
     "metadata": {},
     "output_type": "execute_result"
    }
   ],
   "source": [
    "pnad.dtypes"
   ]
  },
  {
   "cell_type": "code",
   "execution_count": 9,
   "id": "southern-sherman",
   "metadata": {},
   "outputs": [
    {
     "data": {
      "text/plain": [
       "year                         0\n",
       "uf                           0\n",
       "sex                          0\n",
       "age                          0\n",
       "skin_color                   0\n",
       "literate                 81779\n",
       "years_in_education       81779\n",
       "income                  902655\n",
       "weekly_working_hours    881313\n",
       "sample_weight                0\n",
       "dtype: int64"
      ]
     },
     "execution_count": 9,
     "metadata": {},
     "output_type": "execute_result"
    }
   ],
   "source": [
    "pnad.isna().sum()"
   ]
  },
  {
   "cell_type": "markdown",
   "id": "collective-validity",
   "metadata": {},
   "source": [
    "## Univariate Analysis"
   ]
  },
  {
   "cell_type": "code",
   "execution_count": 10,
   "id": "multiple-indianapolis",
   "metadata": {},
   "outputs": [
    {
     "data": {
      "text/html": [
       "<div>\n",
       "<style scoped>\n",
       "    .dataframe tbody tr th:only-of-type {\n",
       "        vertical-align: middle;\n",
       "    }\n",
       "\n",
       "    .dataframe tbody tr th {\n",
       "        vertical-align: top;\n",
       "    }\n",
       "\n",
       "    .dataframe thead th {\n",
       "        text-align: right;\n",
       "    }\n",
       "</style>\n",
       "<table border=\"1\" class=\"dataframe\">\n",
       "  <thead>\n",
       "    <tr style=\"text-align: right;\">\n",
       "      <th></th>\n",
       "      <th>age</th>\n",
       "      <th>years_in_education</th>\n",
       "      <th>income</th>\n",
       "      <th>weekly_working_hours</th>\n",
       "    </tr>\n",
       "  </thead>\n",
       "  <tbody>\n",
       "    <tr>\n",
       "      <th>count</th>\n",
       "      <td>1.466395e+06</td>\n",
       "      <td>1.384616e+06</td>\n",
       "      <td>563740.000000</td>\n",
       "      <td>585082.000000</td>\n",
       "    </tr>\n",
       "    <tr>\n",
       "      <th>mean</th>\n",
       "      <td>3.689794e+01</td>\n",
       "      <td>8.478837e+00</td>\n",
       "      <td>2247.115236</td>\n",
       "      <td>36.974209</td>\n",
       "    </tr>\n",
       "    <tr>\n",
       "      <th>std</th>\n",
       "      <td>2.198684e+01</td>\n",
       "      <td>4.885813e+00</td>\n",
       "      <td>3798.093430</td>\n",
       "      <td>14.509763</td>\n",
       "    </tr>\n",
       "    <tr>\n",
       "      <th>min</th>\n",
       "      <td>0.000000e+00</td>\n",
       "      <td>0.000000e+00</td>\n",
       "      <td>0.000000</td>\n",
       "      <td>0.000000</td>\n",
       "    </tr>\n",
       "    <tr>\n",
       "      <th>25%</th>\n",
       "      <td>1.800000e+01</td>\n",
       "      <td>5.000000e+00</td>\n",
       "      <td>960.000000</td>\n",
       "      <td>30.000000</td>\n",
       "    </tr>\n",
       "    <tr>\n",
       "      <th>50%</th>\n",
       "      <td>3.600000e+01</td>\n",
       "      <td>9.000000e+00</td>\n",
       "      <td>1350.000000</td>\n",
       "      <td>40.000000</td>\n",
       "    </tr>\n",
       "    <tr>\n",
       "      <th>75%</th>\n",
       "      <td>5.400000e+01</td>\n",
       "      <td>1.200000e+01</td>\n",
       "      <td>2400.000000</td>\n",
       "      <td>44.000000</td>\n",
       "    </tr>\n",
       "    <tr>\n",
       "      <th>max</th>\n",
       "      <td>1.120000e+02</td>\n",
       "      <td>1.600000e+01</td>\n",
       "      <td>310000.000000</td>\n",
       "      <td>120.000000</td>\n",
       "    </tr>\n",
       "  </tbody>\n",
       "</table>\n",
       "</div>"
      ],
      "text/plain": [
       "                age  years_in_education         income  weekly_working_hours\n",
       "count  1.466395e+06        1.384616e+06  563740.000000         585082.000000\n",
       "mean   3.689794e+01        8.478837e+00    2247.115236             36.974209\n",
       "std    2.198684e+01        4.885813e+00    3798.093430             14.509763\n",
       "min    0.000000e+00        0.000000e+00       0.000000              0.000000\n",
       "25%    1.800000e+01        5.000000e+00     960.000000             30.000000\n",
       "50%    3.600000e+01        9.000000e+00    1350.000000             40.000000\n",
       "75%    5.400000e+01        1.200000e+01    2400.000000             44.000000\n",
       "max    1.120000e+02        1.600000e+01  310000.000000            120.000000"
      ]
     },
     "execution_count": 10,
     "metadata": {},
     "output_type": "execute_result"
    }
   ],
   "source": [
    "pnad[['age', 'literate', 'years_in_education', 'income', 'weekly_working_hours']].describe()"
   ]
  },
  {
   "cell_type": "code",
   "execution_count": 11,
   "id": "executive-paint",
   "metadata": {},
   "outputs": [
    {
     "data": {
      "text/plain": [
       "array([[<AxesSubplot:title={'center':'year'}>,\n",
       "        <AxesSubplot:title={'center':'age'}>],\n",
       "       [<AxesSubplot:title={'center':'years_in_education'}>,\n",
       "        <AxesSubplot:title={'center':'income'}>],\n",
       "       [<AxesSubplot:title={'center':'weekly_working_hours'}>,\n",
       "        <AxesSubplot:title={'center':'sample_weight'}>]], dtype=object)"
      ]
     },
     "execution_count": 11,
     "metadata": {},
     "output_type": "execute_result"
    },
    {
     "data": {
      "image/png": "[encoded data removed]",
      "text/plain": [
       "<Figure size 1440x720 with 6 Axes>"
      ]
     },
     "metadata": {},
     "output_type": "display_data"
    }
   ],
   "source": [
    "sns.set(style='whitegrid')\n",
    "pnad.hist(figsize = (20, 10))"
   ]
  },
  {
   "cell_type": "code",
   "execution_count": 12,
   "id": "fundamental-edwards",
   "metadata": {},
   "outputs": [
    {
     "data": {
      "text/plain": [
       "Female    0.517329\n",
       "Male      0.482671\n",
       "Name: sex, dtype: float64"
      ]
     },
     "execution_count": 12,
     "metadata": {},
     "output_type": "execute_result"
    }
   ],
   "source": [
    "pnad.sex.value_counts() / pnad.shape[0]"
   ]
  },
  {
   "cell_type": "code",
   "execution_count": 13,
   "id": "permanent-investor",
   "metadata": {},
   "outputs": [
    {
     "data": {
      "text/plain": [
       "Brown         0.509667\n",
       "White         0.398747\n",
       "Black         0.082280\n",
       "Yellow        0.004878\n",
       "Indigenous    0.004244\n",
       "Ignored       0.000185\n",
       "Name: skin_color, dtype: float64"
      ]
     },
     "execution_count": 13,
     "metadata": {},
     "output_type": "execute_result"
    }
   ],
   "source": [
    "pnad.skin_color.value_counts() / pnad.shape[0]"
   ]
  },
  {
   "cell_type": "code",
   "execution_count": 14,
   "id": "separate-handbook",
   "metadata": {},
   "outputs": [
    {
     "data": {
      "text/plain": [
       "12.0    0.215056\n",
       "16.0    0.104905\n",
       "5.0     0.087059\n",
       "0.0     0.083202\n",
       "9.0     0.074260\n",
       "6.0     0.054948\n",
       "4.0     0.041157\n",
       "7.0     0.039234\n",
       "8.0     0.038535\n",
       "3.0     0.035229\n",
       "10.0    0.031688\n",
       "11.0    0.030668\n",
       "1.0     0.028192\n",
       "2.0     0.028047\n",
       "13.0    0.021647\n",
       "14.0    0.015713\n",
       "15.0    0.014692\n",
       "Name: years_in_education, dtype: float64"
      ]
     },
     "execution_count": 14,
     "metadata": {},
     "output_type": "execute_result"
    }
   ],
   "source": [
    "pnad.years_in_education.value_counts() / pnad.shape[0]"
   ]
  },
  {
   "cell_type": "code",
   "execution_count": 15,
   "id": "sunset-pension",
   "metadata": {},
   "outputs": [
    {
     "data": {
      "image/png": "[encoded data removed]",
      "text/plain": [
       "<Figure size 432x288 with 1 Axes>"
      ]
     },
     "metadata": {},
     "output_type": "display_data"
    }
   ],
   "source": [
    "sex = sns.countplot(x = pnad.sex)\n",
    "sex.set(xlabel = '', ylabel = '', title = 'Sex')\n",
    "plt.show(sex)"
   ]
  },
  {
   "cell_type": "code",
   "execution_count": 16,
   "id": "seven-silly",
   "metadata": {},
   "outputs": [
    {
     "data": {
      "text/plain": [
       "<AxesSubplot:title={'center':'Skin Color'}>"
      ]
     },
     "execution_count": 16,
     "metadata": {},
     "output_type": "execute_result"
    },
    {
     "data": {
      "image/png": "[encoded data removed]",
      "text/plain": [
       "<Figure size 432x288 with 1 Axes>"
      ]
     },
     "metadata": {},
     "output_type": "display_data"
    }
   ],
   "source": [
    "skin_color = sns.countplot(x = pnad.skin_color)\n",
    "skin_color.set(xlabel = '', ylabel = '', title = 'Skin Color')\n",
    "plt.xticks(rotation=45)\n",
    "skin_color"
   ]
  },
  {
   "cell_type": "markdown",
   "id": "special-pharmacy",
   "metadata": {},
   "source": [
    "### Summary\n",
    "Considering the wage earner part of Brazilian population:\n",
    "- ~90% of the popularion is white and brown.\n",
    "- ~50% has superior education.\n",
    "- There are about 17% more males in the working force"
   ]
  },
  {
   "cell_type": "markdown",
   "id": "subjective-europe",
   "metadata": {},
   "source": [
    "## Bivariate Analysis"
   ]
  },
  {
   "cell_type": "code",
   "execution_count": 17,
   "id": "multiple-spotlight",
   "metadata": {},
   "outputs": [
    {
     "data": {
      "text/plain": [
       "<AxesSubplot:title={'center':'Income by age'}, xlabel='Age', ylabel='Income'>"
      ]
     },
     "execution_count": 17,
     "metadata": {},
     "output_type": "execute_result"
    },
    {
     "data": {
      "image/png": "[encoded data removed]",
      "text/plain": [
       "<Figure size 432x288 with 1 Axes>"
      ]
     },
     "metadata": {},
     "output_type": "display_data"
    }
   ],
   "source": [
    "income_by_age = sns.scatterplot(x = pnad.age, y = pnad.income)\n",
    "income_by_age.set(xlabel = 'Age', ylabel = 'Income', title = 'Income by age')\n",
    "income_by_age"
   ]
  },
  {
   "cell_type": "code",
   "execution_count": 18,
   "id": "affiliated-expansion",
   "metadata": {},
   "outputs": [
    {
     "data": {
      "text/plain": [
       "<AxesSubplot:title={'center':'Skin Color'}>"
      ]
     },
     "execution_count": 18,
     "metadata": {},
     "output_type": "execute_result"
    },
    {
     "data": {
      "image/png": "[encoded data removed]",
      "text/plain": [
       "<Figure size 432x288 with 1 Axes>"
      ]
     },
     "metadata": {},
     "output_type": "display_data"
    }
   ],
   "source": [
    "skin_color_by_sex = sns.countplot(x = pnad.skin_color, hue = pnad.sex)\n",
    "skin_color_by_sex.set(xlabel = '', ylabel = '', title = 'Skin color by sex')\n",
    "plt.xticks(rotation=45)\n",
    "skin_color"
   ]
  },
  {
   "cell_type": "code",
   "execution_count": 19,
   "id": "twelve-worry",
   "metadata": {},
   "outputs": [
    {
     "data": {
      "text/plain": [
       "<AxesSubplot:title={'center':'Income by sex'}>"
      ]
     },
     "execution_count": 19,
     "metadata": {},
     "output_type": "execute_result"
    },
    {
     "data": {
      "image/png": "[encoded data removed]",
      "text/plain": [
       "<Figure size 432x288 with 1 Axes>"
      ]
     },
     "metadata": {},
     "output_type": "display_data"
    }
   ],
   "source": [
    "income_by_sex = sns.boxplot(x = pnad.sex, y = pnad.income)\n",
    "income_by_sex.set(xlabel = '', ylabel = '', title = 'Income by sex')\n",
    "income_by_sex"
   ]
  },
  {
   "cell_type": "code",
   "execution_count": 20,
   "id": "colonial-stevens",
   "metadata": {},
   "outputs": [
    {
     "data": {
      "text/html": [
       "<div>\n",
       "<style scoped>\n",
       "    .dataframe tbody tr th:only-of-type {\n",
       "        vertical-align: middle;\n",
       "    }\n",
       "\n",
       "    .dataframe tbody tr th {\n",
       "        vertical-align: top;\n",
       "    }\n",
       "\n",
       "    .dataframe thead th {\n",
       "        text-align: right;\n",
       "    }\n",
       "</style>\n",
       "<table border=\"1\" class=\"dataframe\">\n",
       "  <thead>\n",
       "    <tr style=\"text-align: right;\">\n",
       "      <th></th>\n",
       "      <th>income</th>\n",
       "      <th>age</th>\n",
       "    </tr>\n",
       "  </thead>\n",
       "  <tbody>\n",
       "    <tr>\n",
       "      <th>count</th>\n",
       "      <td>563740.000000</td>\n",
       "      <td>1.466395e+06</td>\n",
       "    </tr>\n",
       "    <tr>\n",
       "      <th>mean</th>\n",
       "      <td>2247.115236</td>\n",
       "      <td>3.689794e+01</td>\n",
       "    </tr>\n",
       "    <tr>\n",
       "      <th>std</th>\n",
       "      <td>3798.093430</td>\n",
       "      <td>2.198684e+01</td>\n",
       "    </tr>\n",
       "    <tr>\n",
       "      <th>min</th>\n",
       "      <td>0.000000</td>\n",
       "      <td>0.000000e+00</td>\n",
       "    </tr>\n",
       "    <tr>\n",
       "      <th>25%</th>\n",
       "      <td>960.000000</td>\n",
       "      <td>1.800000e+01</td>\n",
       "    </tr>\n",
       "    <tr>\n",
       "      <th>50%</th>\n",
       "      <td>1350.000000</td>\n",
       "      <td>3.600000e+01</td>\n",
       "    </tr>\n",
       "    <tr>\n",
       "      <th>75%</th>\n",
       "      <td>2400.000000</td>\n",
       "      <td>5.400000e+01</td>\n",
       "    </tr>\n",
       "    <tr>\n",
       "      <th>max</th>\n",
       "      <td>310000.000000</td>\n",
       "      <td>1.120000e+02</td>\n",
       "    </tr>\n",
       "  </tbody>\n",
       "</table>\n",
       "</div>"
      ],
      "text/plain": [
       "              income           age\n",
       "count  563740.000000  1.466395e+06\n",
       "mean     2247.115236  3.689794e+01\n",
       "std      3798.093430  2.198684e+01\n",
       "min         0.000000  0.000000e+00\n",
       "25%       960.000000  1.800000e+01\n",
       "50%      1350.000000  3.600000e+01\n",
       "75%      2400.000000  5.400000e+01\n",
       "max    310000.000000  1.120000e+02"
      ]
     },
     "execution_count": 20,
     "metadata": {},
     "output_type": "execute_result"
    }
   ],
   "source": [
    "pnad[['income', 'age']].describe()"
   ]
  },
  {
   "cell_type": "markdown",
   "id": "tribal-ballet",
   "metadata": {},
   "source": [
    "Since up to 75% of the population has an income up to 2400 and the working age in Brazil is between 18 - 65 years, we will limit the dataset by the conditions:\n",
    "- Max income = 4000\n",
    "- Age = 18 - 65"
   ]
  },
  {
   "cell_type": "code",
   "execution_count": 21,
   "id": "outdoor-harbor",
   "metadata": {},
   "outputs": [
    {
     "data": {
      "text/html": [
       "<div>\n",
       "<style scoped>\n",
       "    .dataframe tbody tr th:only-of-type {\n",
       "        vertical-align: middle;\n",
       "    }\n",
       "\n",
       "    .dataframe tbody tr th {\n",
       "        vertical-align: top;\n",
       "    }\n",
       "\n",
       "    .dataframe thead th {\n",
       "        text-align: right;\n",
       "    }\n",
       "</style>\n",
       "<table border=\"1\" class=\"dataframe\">\n",
       "  <thead>\n",
       "    <tr style=\"text-align: right;\">\n",
       "      <th></th>\n",
       "      <th>year</th>\n",
       "      <th>age</th>\n",
       "      <th>years_in_education</th>\n",
       "      <th>income</th>\n",
       "      <th>weekly_working_hours</th>\n",
       "      <th>sample_weight</th>\n",
       "    </tr>\n",
       "  </thead>\n",
       "  <tbody>\n",
       "    <tr>\n",
       "      <th>count</th>\n",
       "      <td>465277.000000</td>\n",
       "      <td>465277.000000</td>\n",
       "      <td>465277.000000</td>\n",
       "      <td>465277.000000</td>\n",
       "      <td>465277.000000</td>\n",
       "      <td>465277.000000</td>\n",
       "    </tr>\n",
       "    <tr>\n",
       "      <th>mean</th>\n",
       "      <td>2020.762935</td>\n",
       "      <td>39.578365</td>\n",
       "      <td>10.409603</td>\n",
       "      <td>1487.150263</td>\n",
       "      <td>37.268801</td>\n",
       "      <td>612.862724</td>\n",
       "    </tr>\n",
       "    <tr>\n",
       "      <th>std</th>\n",
       "      <td>0.425283</td>\n",
       "      <td>12.129612</td>\n",
       "      <td>4.102602</td>\n",
       "      <td>904.291613</td>\n",
       "      <td>13.833440</td>\n",
       "      <td>764.725525</td>\n",
       "    </tr>\n",
       "    <tr>\n",
       "      <th>min</th>\n",
       "      <td>2020.000000</td>\n",
       "      <td>18.000000</td>\n",
       "      <td>0.000000</td>\n",
       "      <td>3.000000</td>\n",
       "      <td>0.000000</td>\n",
       "      <td>3.547849</td>\n",
       "    </tr>\n",
       "    <tr>\n",
       "      <th>25%</th>\n",
       "      <td>2021.000000</td>\n",
       "      <td>30.000000</td>\n",
       "      <td>8.000000</td>\n",
       "      <td>1000.000000</td>\n",
       "      <td>30.000000</td>\n",
       "      <td>228.654231</td>\n",
       "    </tr>\n",
       "    <tr>\n",
       "      <th>50%</th>\n",
       "      <td>2021.000000</td>\n",
       "      <td>39.000000</td>\n",
       "      <td>12.000000</td>\n",
       "      <td>1240.000000</td>\n",
       "      <td>40.000000</td>\n",
       "      <td>403.229421</td>\n",
       "    </tr>\n",
       "    <tr>\n",
       "      <th>75%</th>\n",
       "      <td>2021.000000</td>\n",
       "      <td>49.000000</td>\n",
       "      <td>12.000000</td>\n",
       "      <td>2000.000000</td>\n",
       "      <td>44.000000</td>\n",
       "      <td>726.714837</td>\n",
       "    </tr>\n",
       "    <tr>\n",
       "      <th>max</th>\n",
       "      <td>2021.000000</td>\n",
       "      <td>65.000000</td>\n",
       "      <td>16.000000</td>\n",
       "      <td>4000.000000</td>\n",
       "      <td>120.000000</td>\n",
       "      <td>39829.750539</td>\n",
       "    </tr>\n",
       "  </tbody>\n",
       "</table>\n",
       "</div>"
      ],
      "text/plain": [
       "                year            age  years_in_education         income  \\\n",
       "count  465277.000000  465277.000000       465277.000000  465277.000000   \n",
       "mean     2020.762935      39.578365           10.409603    1487.150263   \n",
       "std         0.425283      12.129612            4.102602     904.291613   \n",
       "min      2020.000000      18.000000            0.000000       3.000000   \n",
       "25%      2021.000000      30.000000            8.000000    1000.000000   \n",
       "50%      2021.000000      39.000000           12.000000    1240.000000   \n",
       "75%      2021.000000      49.000000           12.000000    2000.000000   \n",
       "max      2021.000000      65.000000           16.000000    4000.000000   \n",
       "\n",
       "       weekly_working_hours  sample_weight  \n",
       "count         465277.000000  465277.000000  \n",
       "mean              37.268801     612.862724  \n",
       "std               13.833440     764.725525  \n",
       "min                0.000000       3.547849  \n",
       "25%               30.000000     228.654231  \n",
       "50%               40.000000     403.229421  \n",
       "75%               44.000000     726.714837  \n",
       "max              120.000000   39829.750539  "
      ]
     },
     "execution_count": 21,
     "metadata": {},
     "output_type": "execute_result"
    }
   ],
   "source": [
    "subset = pnad.loc[(pnad.age >= 18) & (pnad.age <= 65) & (pnad.income > 0) & (pnad.income <= 4000)]\n",
    "subset.describe()"
   ]
  },
  {
   "cell_type": "code",
   "execution_count": 22,
   "id": "moderate-portrait",
   "metadata": {},
   "outputs": [
    {
     "data": {
      "text/plain": [
       "<AxesSubplot:title={'center':'Income by sex'}>"
      ]
     },
     "execution_count": 22,
     "metadata": {},
     "output_type": "execute_result"
    },
    {
     "data": {
      "image/png": "[encoded data removed]",
      "text/plain": [
       "<Figure size 432x288 with 1 Axes>"
      ]
     },
     "metadata": {},
     "output_type": "display_data"
    }
   ],
   "source": [
    "income_by_sex = sns.boxplot(x = subset.sex, y = subset.income)\n",
    "income_by_sex.set(xlabel = '', ylabel = '', title = 'Income by sex')\n",
    "income_by_sex"
   ]
  },
  {
   "cell_type": "code",
   "execution_count": 23,
   "id": "quiet-buffer",
   "metadata": {},
   "outputs": [
    {
     "data": {
      "text/plain": [
       "<AxesSubplot:title={'center':'Weekly working hours by sex'}>"
      ]
     },
     "execution_count": 23,
     "metadata": {},
     "output_type": "execute_result"
    },
    {
     "data": {
      "image/png": "[encoded data removed]",
      "text/plain": [
       "<Figure size 432x288 with 1 Axes>"
      ]
     },
     "metadata": {},
     "output_type": "display_data"
    }
   ],
   "source": [
    "wwh_by_sex = sns.boxplot(x = subset.sex, y = subset.weekly_working_hours)\n",
    "wwh_by_sex.set(xlabel = '', ylabel = '', title = 'Weekly working hours by sex')\n",
    "wwh_by_sex"
   ]
  },
  {
   "cell_type": "code",
   "execution_count": 24,
   "id": "curious-gnome",
   "metadata": {},
   "outputs": [
    {
     "data": {
      "text/plain": [
       "<AxesSubplot:title={'center':'Years in education by sex'}>"
      ]
     },
     "execution_count": 24,
     "metadata": {},
     "output_type": "execute_result"
    },
    {
     "data": {
      "image/png": "[encoded data removed]",
      "text/plain": [
       "<Figure size 432x288 with 1 Axes>"
      ]
     },
     "metadata": {},
     "output_type": "display_data"
    }
   ],
   "source": [
    "yos_by_sex = sns.boxplot(x = subset.sex, y = subset.years_in_education)\n",
    "yos_by_sex.set(xlabel = '', ylabel = '', title = 'Years in education by sex')\n",
    "yos_by_sex"
   ]
  },
  {
   "cell_type": "code",
   "execution_count": 25,
   "id": "saving-conservation",
   "metadata": {},
   "outputs": [
    {
     "data": {
      "text/plain": [
       "<AxesSubplot:title={'center':'Income by skin color'}>"
      ]
     },
     "execution_count": 25,
     "metadata": {},
     "output_type": "execute_result"
    },
    {
     "data": {
      "image/png": "[encoded data removed]",
      "text/plain": [
       "<Figure size 432x288 with 1 Axes>"
      ]
     },
     "metadata": {},
     "output_type": "display_data"
    }
   ],
   "source": [
    "income_by_skin_color = sns.boxplot(x = subset.skin_color, y = subset.income)\n",
    "income_by_skin_color.set(xlabel = '', ylabel = '', title = 'Income by skin color')\n",
    "plt.xticks(rotation=45)\n",
    "income_by_skin_color"
   ]
  },
  {
   "cell_type": "code",
   "execution_count": 26,
   "id": "pretty-hindu",
   "metadata": {},
   "outputs": [
    {
     "data": {
      "text/plain": [
       "<AxesSubplot:title={'center':'Weekly working hours by skin color'}>"
      ]
     },
     "execution_count": 26,
     "metadata": {},
     "output_type": "execute_result"
    },
    {
     "data": {
      "image/png": "[encoded data removed]",
      "text/plain": [
       "<Figure size 432x288 with 1 Axes>"
      ]
     },
     "metadata": {},
     "output_type": "display_data"
    }
   ],
   "source": [
    "wwh_by_color = sns.boxplot(x = subset.skin_color, y = subset.weekly_working_hours)\n",
    "wwh_by_color.set(xlabel = '', ylabel = '', title = 'Weekly working hours by skin color')\n",
    "wwh_by_color"
   ]
  },
  {
   "cell_type": "code",
   "execution_count": 27,
   "id": "respiratory-worker",
   "metadata": {},
   "outputs": [
    {
     "data": {
      "text/plain": [
       "<AxesSubplot:title={'center':'Years in education by skin color'}>"
      ]
     },
     "execution_count": 27,
     "metadata": {},
     "output_type": "execute_result"
    },
    {
     "data": {
      "image/png": "[encoded data removed]",
      "text/plain": [
       "<Figure size 432x288 with 1 Axes>"
      ]
     },
     "metadata": {},
     "output_type": "display_data"
    }
   ],
   "source": [
    "yos_by_color = sns.boxplot(x = subset.skin_color, y = subset.years_in_education)\n",
    "yos_by_color.set(xlabel = '', ylabel = '', title = 'Years in education by skin color')\n",
    "yos_by_color"
   ]
  },
  {
   "cell_type": "code",
   "execution_count": 28,
   "id": "external-latitude",
   "metadata": {},
   "outputs": [],
   "source": [
    "wm = lambda x: np.average(x, weights=df.loc[x.index, \"sample_weight\"])"
   ]
  },
  {
   "cell_type": "code",
   "execution_count": 29,
   "id": "younger-liberty",
   "metadata": {},
   "outputs": [
    {
     "data": {
      "text/html": [
       "<div>\n",
       "<style scoped>\n",
       "    .dataframe tbody tr th:only-of-type {\n",
       "        vertical-align: middle;\n",
       "    }\n",
       "\n",
       "    .dataframe tbody tr th {\n",
       "        vertical-align: top;\n",
       "    }\n",
       "\n",
       "    .dataframe thead th {\n",
       "        text-align: right;\n",
       "    }\n",
       "</style>\n",
       "<table border=\"1\" class=\"dataframe\">\n",
       "  <thead>\n",
       "    <tr style=\"text-align: right;\">\n",
       "      <th></th>\n",
       "      <th>income</th>\n",
       "    </tr>\n",
       "    <tr>\n",
       "      <th>sex</th>\n",
       "      <th></th>\n",
       "    </tr>\n",
       "  </thead>\n",
       "  <tbody>\n",
       "    <tr>\n",
       "      <th>Female</th>\n",
       "      <td>1470.242180</td>\n",
       "    </tr>\n",
       "    <tr>\n",
       "      <th>Male</th>\n",
       "      <td>1644.442108</td>\n",
       "    </tr>\n",
       "  </tbody>\n",
       "</table>\n",
       "</div>"
      ],
      "text/plain": [
       "             income\n",
       "sex                \n",
       "Female  1470.242180\n",
       "Male    1644.442108"
      ]
     },
     "execution_count": 29,
     "metadata": {},
     "output_type": "execute_result"
    }
   ],
   "source": [
    "subset.groupby('sex').agg({'income' : wm})"
   ]
  },
  {
   "cell_type": "code",
   "execution_count": 30,
   "id": "frank-pulse",
   "metadata": {},
   "outputs": [
    {
     "data": {
      "text/html": [
       "<div>\n",
       "<style scoped>\n",
       "    .dataframe tbody tr th:only-of-type {\n",
       "        vertical-align: middle;\n",
       "    }\n",
       "\n",
       "    .dataframe tbody tr th {\n",
       "        vertical-align: top;\n",
       "    }\n",
       "\n",
       "    .dataframe thead th {\n",
       "        text-align: right;\n",
       "    }\n",
       "</style>\n",
       "<table border=\"1\" class=\"dataframe\">\n",
       "  <thead>\n",
       "    <tr style=\"text-align: right;\">\n",
       "      <th></th>\n",
       "      <th>income</th>\n",
       "    </tr>\n",
       "    <tr>\n",
       "      <th>skin_color</th>\n",
       "      <th></th>\n",
       "    </tr>\n",
       "  </thead>\n",
       "  <tbody>\n",
       "    <tr>\n",
       "      <th>Black</th>\n",
       "      <td>1446.004201</td>\n",
       "    </tr>\n",
       "    <tr>\n",
       "      <th>Brown</th>\n",
       "      <td>1417.853932</td>\n",
       "    </tr>\n",
       "    <tr>\n",
       "      <th>Ignored</th>\n",
       "      <td>1289.566440</td>\n",
       "    </tr>\n",
       "    <tr>\n",
       "      <th>Indigenous</th>\n",
       "      <td>1464.944576</td>\n",
       "    </tr>\n",
       "    <tr>\n",
       "      <th>White</th>\n",
       "      <td>1765.412940</td>\n",
       "    </tr>\n",
       "    <tr>\n",
       "      <th>Yellow</th>\n",
       "      <td>1873.702900</td>\n",
       "    </tr>\n",
       "  </tbody>\n",
       "</table>\n",
       "</div>"
      ],
      "text/plain": [
       "                 income\n",
       "skin_color             \n",
       "Black       1446.004201\n",
       "Brown       1417.853932\n",
       "Ignored     1289.566440\n",
       "Indigenous  1464.944576\n",
       "White       1765.412940\n",
       "Yellow      1873.702900"
      ]
     },
     "execution_count": 30,
     "metadata": {},
     "output_type": "execute_result"
    }
   ],
   "source": [
    "subset.groupby('skin_color').agg({'income' : wm})"
   ]
  },
  {
   "cell_type": "code",
   "execution_count": 31,
   "id": "destroyed-company",
   "metadata": {},
   "outputs": [
    {
     "data": {
      "text/html": [
       "<div>\n",
       "<style scoped>\n",
       "    .dataframe tbody tr th:only-of-type {\n",
       "        vertical-align: middle;\n",
       "    }\n",
       "\n",
       "    .dataframe tbody tr th {\n",
       "        vertical-align: top;\n",
       "    }\n",
       "\n",
       "    .dataframe thead th {\n",
       "        text-align: right;\n",
       "    }\n",
       "</style>\n",
       "<table border=\"1\" class=\"dataframe\">\n",
       "  <thead>\n",
       "    <tr style=\"text-align: right;\">\n",
       "      <th></th>\n",
       "      <th>weekly_working_hours</th>\n",
       "    </tr>\n",
       "    <tr>\n",
       "      <th>sex</th>\n",
       "      <th></th>\n",
       "    </tr>\n",
       "  </thead>\n",
       "  <tbody>\n",
       "    <tr>\n",
       "      <th>Female</th>\n",
       "      <td>34.428798</td>\n",
       "    </tr>\n",
       "    <tr>\n",
       "      <th>Male</th>\n",
       "      <td>39.719600</td>\n",
       "    </tr>\n",
       "  </tbody>\n",
       "</table>\n",
       "</div>"
      ],
      "text/plain": [
       "        weekly_working_hours\n",
       "sex                         \n",
       "Female             34.428798\n",
       "Male               39.719600"
      ]
     },
     "execution_count": 31,
     "metadata": {},
     "output_type": "execute_result"
    }
   ],
   "source": [
    "subset.groupby(['sex']).agg({'weekly_working_hours' : wm})"
   ]
  },
  {
   "cell_type": "code",
   "execution_count": 32,
   "id": "advised-adjustment",
   "metadata": {},
   "outputs": [
    {
     "data": {
      "text/html": [
       "<div>\n",
       "<style scoped>\n",
       "    .dataframe tbody tr th:only-of-type {\n",
       "        vertical-align: middle;\n",
       "    }\n",
       "\n",
       "    .dataframe tbody tr th {\n",
       "        vertical-align: top;\n",
       "    }\n",
       "\n",
       "    .dataframe thead th {\n",
       "        text-align: right;\n",
       "    }\n",
       "</style>\n",
       "<table border=\"1\" class=\"dataframe\">\n",
       "  <thead>\n",
       "    <tr style=\"text-align: right;\">\n",
       "      <th></th>\n",
       "      <th>age</th>\n",
       "      <th>income</th>\n",
       "    </tr>\n",
       "  </thead>\n",
       "  <tbody>\n",
       "    <tr>\n",
       "      <th>0</th>\n",
       "      <td>18</td>\n",
       "      <td>939.819378</td>\n",
       "    </tr>\n",
       "    <tr>\n",
       "      <th>1</th>\n",
       "      <td>19</td>\n",
       "      <td>1049.541276</td>\n",
       "    </tr>\n",
       "    <tr>\n",
       "      <th>2</th>\n",
       "      <td>20</td>\n",
       "      <td>1157.956624</td>\n",
       "    </tr>\n",
       "    <tr>\n",
       "      <th>3</th>\n",
       "      <td>21</td>\n",
       "      <td>1228.607220</td>\n",
       "    </tr>\n",
       "    <tr>\n",
       "      <th>4</th>\n",
       "      <td>22</td>\n",
       "      <td>1295.468608</td>\n",
       "    </tr>\n",
       "  </tbody>\n",
       "</table>\n",
       "</div>"
      ],
      "text/plain": [
       "   age       income\n",
       "0   18   939.819378\n",
       "1   19  1049.541276\n",
       "2   20  1157.956624\n",
       "3   21  1228.607220\n",
       "4   22  1295.468608"
      ]
     },
     "execution_count": 32,
     "metadata": {},
     "output_type": "execute_result"
    }
   ],
   "source": [
    "grouped_income = subset.groupby('age').agg({'income' : wm})\n",
    "grouped_income.reset_index(inplace = True)\n",
    "grouped_income.head()"
   ]
  },
  {
   "cell_type": "code",
   "execution_count": 33,
   "id": "collect-perfume",
   "metadata": {},
   "outputs": [
    {
     "data": {
      "text/plain": [
       "<AxesSubplot:title={'center':'Income by age'}, xlabel='Age', ylabel='Income Average'>"
      ]
     },
     "execution_count": 33,
     "metadata": {},
     "output_type": "execute_result"
    },
    {
     "data": {
      "image/png": "[encoded data removed]",
      "text/plain": [
       "<Figure size 720x360 with 1 Axes>"
      ]
     },
     "metadata": {},
     "output_type": "display_data"
    }
   ],
   "source": [
    "plt.figure(figsize = (10, 5))\n",
    "income_by_age = sns.scatterplot(x = grouped_income.age, y = grouped_income.income)\n",
    "income_by_age.set(xlabel = 'Age', ylabel = 'Income Average', title = 'Income by age')\n",
    "income_by_age"
   ]
  },
  {
   "cell_type": "code",
   "execution_count": 34,
   "id": "guilty-research",
   "metadata": {},
   "outputs": [
    {
     "data": {
      "text/html": [
       "<div>\n",
       "<style scoped>\n",
       "    .dataframe tbody tr th:only-of-type {\n",
       "        vertical-align: middle;\n",
       "    }\n",
       "\n",
       "    .dataframe tbody tr th {\n",
       "        vertical-align: top;\n",
       "    }\n",
       "\n",
       "    .dataframe thead th {\n",
       "        text-align: right;\n",
       "    }\n",
       "</style>\n",
       "<table border=\"1\" class=\"dataframe\">\n",
       "  <thead>\n",
       "    <tr style=\"text-align: right;\">\n",
       "      <th></th>\n",
       "      <th>weekly_working_hours</th>\n",
       "      <th>income</th>\n",
       "    </tr>\n",
       "  </thead>\n",
       "  <tbody>\n",
       "    <tr>\n",
       "      <th>0</th>\n",
       "      <td>0.0</td>\n",
       "      <td>1551.908680</td>\n",
       "    </tr>\n",
       "    <tr>\n",
       "      <th>1</th>\n",
       "      <td>1.0</td>\n",
       "      <td>1093.639285</td>\n",
       "    </tr>\n",
       "    <tr>\n",
       "      <th>2</th>\n",
       "      <td>2.0</td>\n",
       "      <td>613.959472</td>\n",
       "    </tr>\n",
       "    <tr>\n",
       "      <th>3</th>\n",
       "      <td>3.0</td>\n",
       "      <td>511.901812</td>\n",
       "    </tr>\n",
       "    <tr>\n",
       "      <th>4</th>\n",
       "      <td>4.0</td>\n",
       "      <td>600.874092</td>\n",
       "    </tr>\n",
       "    <tr>\n",
       "      <th>...</th>\n",
       "      <td>...</td>\n",
       "      <td>...</td>\n",
       "    </tr>\n",
       "    <tr>\n",
       "      <th>113</th>\n",
       "      <td>115.0</td>\n",
       "      <td>700.000000</td>\n",
       "    </tr>\n",
       "    <tr>\n",
       "      <th>114</th>\n",
       "      <td>116.0</td>\n",
       "      <td>3800.000000</td>\n",
       "    </tr>\n",
       "    <tr>\n",
       "      <th>115</th>\n",
       "      <td>118.0</td>\n",
       "      <td>1567.000000</td>\n",
       "    </tr>\n",
       "    <tr>\n",
       "      <th>116</th>\n",
       "      <td>119.0</td>\n",
       "      <td>1411.420920</td>\n",
       "    </tr>\n",
       "    <tr>\n",
       "      <th>117</th>\n",
       "      <td>120.0</td>\n",
       "      <td>2060.702163</td>\n",
       "    </tr>\n",
       "  </tbody>\n",
       "</table>\n",
       "<p>118 rows × 2 columns</p>\n",
       "</div>"
      ],
      "text/plain": [
       "     weekly_working_hours       income\n",
       "0                     0.0  1551.908680\n",
       "1                     1.0  1093.639285\n",
       "2                     2.0   613.959472\n",
       "3                     3.0   511.901812\n",
       "4                     4.0   600.874092\n",
       "..                    ...          ...\n",
       "113                 115.0   700.000000\n",
       "114                 116.0  3800.000000\n",
       "115                 118.0  1567.000000\n",
       "116                 119.0  1411.420920\n",
       "117                 120.0  2060.702163\n",
       "\n",
       "[118 rows x 2 columns]"
      ]
     },
     "execution_count": 34,
     "metadata": {},
     "output_type": "execute_result"
    }
   ],
   "source": [
    "grouped_wh = subset.groupby('weekly_working_hours').agg({'income' : wm})\n",
    "grouped_wh.reset_index(inplace = True)\n",
    "grouped_wh"
   ]
  },
  {
   "cell_type": "code",
   "execution_count": 35,
   "id": "public-citizen",
   "metadata": {},
   "outputs": [
    {
     "data": {
      "text/plain": [
       "<AxesSubplot:title={'center':'Income by weekly working hours'}, xlabel='Weekly working hours', ylabel='Income Average'>"
      ]
     },
     "execution_count": 35,
     "metadata": {},
     "output_type": "execute_result"
    },
    {
     "data": {
      "image/png": "[encoded data removed]",
      "text/plain": [
       "<Figure size 720x360 with 1 Axes>"
      ]
     },
     "metadata": {},
     "output_type": "display_data"
    }
   ],
   "source": [
    "plt.figure(figsize = (10, 5))\n",
    "income_by_wh = sns.scatterplot(x = grouped_wh.weekly_working_hours, y = grouped_wh.income)\n",
    "income_by_wh.set(xlabel = 'Weekly working hours', ylabel = 'Income Average', title = 'Income by weekly working hours')\n",
    "income_by_wh"
   ]
  },
  {
   "cell_type": "code",
   "execution_count": 36,
   "id": "serial-folks",
   "metadata": {},
   "outputs": [
    {
     "data": {
      "text/html": [
       "<div>\n",
       "<style scoped>\n",
       "    .dataframe tbody tr th:only-of-type {\n",
       "        vertical-align: middle;\n",
       "    }\n",
       "\n",
       "    .dataframe tbody tr th {\n",
       "        vertical-align: top;\n",
       "    }\n",
       "\n",
       "    .dataframe thead th {\n",
       "        text-align: right;\n",
       "    }\n",
       "</style>\n",
       "<table border=\"1\" class=\"dataframe\">\n",
       "  <thead>\n",
       "    <tr style=\"text-align: right;\">\n",
       "      <th></th>\n",
       "      <th>years_in_education</th>\n",
       "      <th>income</th>\n",
       "    </tr>\n",
       "  </thead>\n",
       "  <tbody>\n",
       "    <tr>\n",
       "      <th>0</th>\n",
       "      <td>0.0</td>\n",
       "      <td>937.933011</td>\n",
       "    </tr>\n",
       "    <tr>\n",
       "      <th>1</th>\n",
       "      <td>1.0</td>\n",
       "      <td>1034.825880</td>\n",
       "    </tr>\n",
       "    <tr>\n",
       "      <th>2</th>\n",
       "      <td>2.0</td>\n",
       "      <td>945.634601</td>\n",
       "    </tr>\n",
       "    <tr>\n",
       "      <th>3</th>\n",
       "      <td>3.0</td>\n",
       "      <td>981.604315</td>\n",
       "    </tr>\n",
       "    <tr>\n",
       "      <th>4</th>\n",
       "      <td>4.0</td>\n",
       "      <td>1089.976700</td>\n",
       "    </tr>\n",
       "    <tr>\n",
       "      <th>5</th>\n",
       "      <td>5.0</td>\n",
       "      <td>1227.423655</td>\n",
       "    </tr>\n",
       "    <tr>\n",
       "      <th>6</th>\n",
       "      <td>6.0</td>\n",
       "      <td>1241.403722</td>\n",
       "    </tr>\n",
       "    <tr>\n",
       "      <th>7</th>\n",
       "      <td>7.0</td>\n",
       "      <td>1242.758415</td>\n",
       "    </tr>\n",
       "    <tr>\n",
       "      <th>8</th>\n",
       "      <td>8.0</td>\n",
       "      <td>1272.812158</td>\n",
       "    </tr>\n",
       "    <tr>\n",
       "      <th>9</th>\n",
       "      <td>9.0</td>\n",
       "      <td>1399.976264</td>\n",
       "    </tr>\n",
       "    <tr>\n",
       "      <th>10</th>\n",
       "      <td>10.0</td>\n",
       "      <td>1303.230312</td>\n",
       "    </tr>\n",
       "    <tr>\n",
       "      <th>11</th>\n",
       "      <td>11.0</td>\n",
       "      <td>1347.419561</td>\n",
       "    </tr>\n",
       "    <tr>\n",
       "      <th>12</th>\n",
       "      <td>12.0</td>\n",
       "      <td>1544.030324</td>\n",
       "    </tr>\n",
       "    <tr>\n",
       "      <th>13</th>\n",
       "      <td>13.0</td>\n",
       "      <td>1672.283313</td>\n",
       "    </tr>\n",
       "    <tr>\n",
       "      <th>14</th>\n",
       "      <td>14.0</td>\n",
       "      <td>1833.718456</td>\n",
       "    </tr>\n",
       "    <tr>\n",
       "      <th>15</th>\n",
       "      <td>15.0</td>\n",
       "      <td>1860.792171</td>\n",
       "    </tr>\n",
       "    <tr>\n",
       "      <th>16</th>\n",
       "      <td>16.0</td>\n",
       "      <td>2268.924013</td>\n",
       "    </tr>\n",
       "  </tbody>\n",
       "</table>\n",
       "</div>"
      ],
      "text/plain": [
       "    years_in_education       income\n",
       "0                  0.0   937.933011\n",
       "1                  1.0  1034.825880\n",
       "2                  2.0   945.634601\n",
       "3                  3.0   981.604315\n",
       "4                  4.0  1089.976700\n",
       "5                  5.0  1227.423655\n",
       "6                  6.0  1241.403722\n",
       "7                  7.0  1242.758415\n",
       "8                  8.0  1272.812158\n",
       "9                  9.0  1399.976264\n",
       "10                10.0  1303.230312\n",
       "11                11.0  1347.419561\n",
       "12                12.0  1544.030324\n",
       "13                13.0  1672.283313\n",
       "14                14.0  1833.718456\n",
       "15                15.0  1860.792171\n",
       "16                16.0  2268.924013"
      ]
     },
     "execution_count": 36,
     "metadata": {},
     "output_type": "execute_result"
    }
   ],
   "source": [
    "grouped_st = subset.groupby('years_in_education').agg({'income' : wm})\n",
    "grouped_st.reset_index(inplace = True)\n",
    "grouped_st"
   ]
  },
  {
   "cell_type": "code",
   "execution_count": 37,
   "id": "integral-method",
   "metadata": {},
   "outputs": [
    {
     "data": {
      "text/plain": [
       "<AxesSubplot:title={'center':'Income by instruction level'}, xlabel='Years in education', ylabel='Income Average'>"
      ]
     },
     "execution_count": 37,
     "metadata": {},
     "output_type": "execute_result"
    },
    {
     "data": {
      "image/png": "[encoded data removed]",
      "text/plain": [
       "<Figure size 720x360 with 1 Axes>"
      ]
     },
     "metadata": {},
     "output_type": "display_data"
    }
   ],
   "source": [
    "plt.figure(figsize = (10, 5))\n",
    "income_by_st = sns.scatterplot(x = grouped_st.years_in_education, y = grouped_st.income)\n",
    "income_by_st.set(xlabel = 'Years in education', ylabel = 'Income Average', title = 'Income by instruction level')\n",
    "income_by_st"
   ]
  },
  {
   "cell_type": "markdown",
   "id": "broad-myrtle",
   "metadata": {},
   "source": [
    "### Summary\n",
    "- People in Brazil reach their wage peak between the age of 35 - 40 years\n",
    "- The average number of working hours weekly are 40.\n",
    "- Men tend to work around 7.5 hours more than women weekly.\n",
    "- Women in average study 2 years more than man.\n",
    "- Men earn slightly more than women"
   ]
  },
  {
   "cell_type": "markdown",
   "id": "quarterly-brook",
   "metadata": {},
   "source": [
    "## Multivariate Analysis"
   ]
  },
  {
   "cell_type": "code",
   "execution_count": 38,
   "id": "lesbian-pension",
   "metadata": {},
   "outputs": [
    {
     "data": {
      "text/html": [
       "<div>\n",
       "<style scoped>\n",
       "    .dataframe tbody tr th:only-of-type {\n",
       "        vertical-align: middle;\n",
       "    }\n",
       "\n",
       "    .dataframe tbody tr th {\n",
       "        vertical-align: top;\n",
       "    }\n",
       "\n",
       "    .dataframe thead th {\n",
       "        text-align: right;\n",
       "    }\n",
       "</style>\n",
       "<table border=\"1\" class=\"dataframe\">\n",
       "  <thead>\n",
       "    <tr style=\"text-align: right;\">\n",
       "      <th></th>\n",
       "      <th></th>\n",
       "      <th>income</th>\n",
       "    </tr>\n",
       "    <tr>\n",
       "      <th>skin_color</th>\n",
       "      <th>sex</th>\n",
       "      <th></th>\n",
       "    </tr>\n",
       "  </thead>\n",
       "  <tbody>\n",
       "    <tr>\n",
       "      <th rowspan=\"2\" valign=\"top\">Black</th>\n",
       "      <th>Female</th>\n",
       "      <td>1324.052977</td>\n",
       "    </tr>\n",
       "    <tr>\n",
       "      <th>Male</th>\n",
       "      <td>1530.424289</td>\n",
       "    </tr>\n",
       "    <tr>\n",
       "      <th rowspan=\"2\" valign=\"top\">Brown</th>\n",
       "      <th>Female</th>\n",
       "      <td>1307.775756</td>\n",
       "    </tr>\n",
       "    <tr>\n",
       "      <th>Male</th>\n",
       "      <td>1491.639175</td>\n",
       "    </tr>\n",
       "    <tr>\n",
       "      <th rowspan=\"2\" valign=\"top\">Ignored</th>\n",
       "      <th>Female</th>\n",
       "      <td>1492.415903</td>\n",
       "    </tr>\n",
       "    <tr>\n",
       "      <th>Male</th>\n",
       "      <td>1115.824366</td>\n",
       "    </tr>\n",
       "    <tr>\n",
       "      <th rowspan=\"2\" valign=\"top\">Indigenous</th>\n",
       "      <th>Female</th>\n",
       "      <td>1403.698485</td>\n",
       "    </tr>\n",
       "    <tr>\n",
       "      <th>Male</th>\n",
       "      <td>1505.392899</td>\n",
       "    </tr>\n",
       "    <tr>\n",
       "      <th rowspan=\"2\" valign=\"top\">White</th>\n",
       "      <th>Female</th>\n",
       "      <td>1656.591191</td>\n",
       "    </tr>\n",
       "    <tr>\n",
       "      <th>Male</th>\n",
       "      <td>1854.942696</td>\n",
       "    </tr>\n",
       "    <tr>\n",
       "      <th rowspan=\"2\" valign=\"top\">Yellow</th>\n",
       "      <th>Female</th>\n",
       "      <td>1820.786083</td>\n",
       "    </tr>\n",
       "    <tr>\n",
       "      <th>Male</th>\n",
       "      <td>1918.245435</td>\n",
       "    </tr>\n",
       "  </tbody>\n",
       "</table>\n",
       "</div>"
      ],
      "text/plain": [
       "                        income\n",
       "skin_color sex                \n",
       "Black      Female  1324.052977\n",
       "           Male    1530.424289\n",
       "Brown      Female  1307.775756\n",
       "           Male    1491.639175\n",
       "Ignored    Female  1492.415903\n",
       "           Male    1115.824366\n",
       "Indigenous Female  1403.698485\n",
       "           Male    1505.392899\n",
       "White      Female  1656.591191\n",
       "           Male    1854.942696\n",
       "Yellow     Female  1820.786083\n",
       "           Male    1918.245435"
      ]
     },
     "execution_count": 38,
     "metadata": {},
     "output_type": "execute_result"
    }
   ],
   "source": [
    "grouped_three = subset.groupby(['skin_color', 'sex']).agg({'income' : wm})\n",
    "grouped_three"
   ]
  },
  {
   "cell_type": "code",
   "execution_count": 39,
   "id": "satisfactory-channel",
   "metadata": {},
   "outputs": [
    {
     "data": {
      "text/plain": [
       "<AxesSubplot:title={'center':'Income by skin color and sex'}, ylabel='Income'>"
      ]
     },
     "execution_count": 39,
     "metadata": {},
     "output_type": "execute_result"
    },
    {
     "data": {
      "image/png": "[encoded data removed]",
      "text/plain": [
       "<Figure size 1080x720 with 1 Axes>"
      ]
     },
     "metadata": {},
     "output_type": "display_data"
    }
   ],
   "source": [
    "plt.figure(figsize = (15, 10))\n",
    "income_by_skin_color_and_sex = sns.boxplot(x = subset.skin_color, y = subset.income, hue = subset.sex)\n",
    "income_by_skin_color_and_sex.set(xlabel = '', ylabel = 'Income', title = 'Income by skin color and sex')\n",
    "plt.xticks(rotation=45)\n",
    "income_by_skin_color_and_sex"
   ]
  },
  {
   "cell_type": "code",
   "execution_count": 40,
   "id": "floral-spider",
   "metadata": {},
   "outputs": [
    {
     "data": {
      "text/plain": [
       "<AxesSubplot:title={'center':'Education by skin color and sex'}, ylabel='Years in education'>"
      ]
     },
     "execution_count": 40,
     "metadata": {},
     "output_type": "execute_result"
    },
    {
     "data": {
      "image/png": "[encoded data removed]",
      "text/plain": [
       "<Figure size 1080x720 with 1 Axes>"
      ]
     },
     "metadata": {},
     "output_type": "display_data"
    }
   ],
   "source": [
    "plt.figure(figsize = (15, 10))\n",
    "education_by_skin_color_and_sex = sns.boxplot(x = subset.skin_color, y = subset.years_in_education, hue = subset.sex)\n",
    "education_by_skin_color_and_sex.set(xlabel = '', ylabel = 'Years in education', title = 'Education by skin color and sex')\n",
    "plt.xticks(rotation=45)\n",
    "education_by_skin_color_and_sex"
   ]
  },
  {
   "cell_type": "code",
   "execution_count": 41,
   "id": "minimal-values",
   "metadata": {},
   "outputs": [
    {
     "data": {
      "image/png": "[encoded data removed]",
      "text/plain": [
       "<Figure size 1080x720 with 2 Axes>"
      ]
     },
     "metadata": {},
     "output_type": "display_data"
    }
   ],
   "source": [
    "plt.figure(figsize = (15, 10))\n",
    "sns.heatmap(subset[['age', 'years_in_education', 'income', 'weekly_working_hours']].corr());"
   ]
  },
  {
   "cell_type": "markdown",
   "id": "gothic-methodology",
   "metadata": {},
   "source": [
    "### Summary\n",
    "- The most impactful parameter for bigger earnings is the educational level. \n",
    "- Women from all ethnies, except indigenous, tends to keep studying after BSc level (12+ years in education). \n",
    "- Even being more educated, in average, women still earn considerably less than men.\n",
    "- The vast majority of the population, brown (Parda) people, are the second most underpaid part of the population. Losing only for the indigenous population.\n"
   ]
  },
  {
   "cell_type": "code",
   "execution_count": 42,
   "id": "31893b85-d85b-436d-9f49-d701363665a4",
   "metadata": {},
   "outputs": [],
   "source": [
    "from sklearn.preprocessing import StandardScaler, MinMaxScaler\n",
    "from sklearn.model_selection import train_test_split\n",
    "from sklearn.linear_model import LinearRegression\n",
    "from sklearn.ensemble import RandomForestRegressor\n",
    "from sklearn.neural_network import MLPRegressor\n",
    "from sklearn.neighbors import KNeighborsRegressor\n",
    "from sklearn.metrics import mean_squared_error, mean_absolute_error\n",
    "from xgboost.sklearn import XGBRegressor\n",
    "from sklearn.svm import SVR"
   ]
  },
  {
   "cell_type": "code",
   "execution_count": 43,
   "id": "da4b9255-28ac-482d-b2f3-866eb5a05bc5",
   "metadata": {},
   "outputs": [
    {
     "data": {
      "text/html": [
       "<div>\n",
       "<style scoped>\n",
       "    .dataframe tbody tr th:only-of-type {\n",
       "        vertical-align: middle;\n",
       "    }\n",
       "\n",
       "    .dataframe tbody tr th {\n",
       "        vertical-align: top;\n",
       "    }\n",
       "\n",
       "    .dataframe thead th {\n",
       "        text-align: right;\n",
       "    }\n",
       "</style>\n",
       "<table border=\"1\" class=\"dataframe\">\n",
       "  <thead>\n",
       "    <tr style=\"text-align: right;\">\n",
       "      <th></th>\n",
       "      <th>uf_Acre</th>\n",
       "      <th>uf_Alagoas</th>\n",
       "      <th>uf_Amapá</th>\n",
       "      <th>uf_Amazonas</th>\n",
       "      <th>uf_Bahia</th>\n",
       "      <th>uf_Ceará</th>\n",
       "      <th>uf_Distrito Federal</th>\n",
       "      <th>uf_EspÃ­rito Santo</th>\n",
       "      <th>uf_Goiás</th>\n",
       "      <th>uf_Maranhão</th>\n",
       "      <th>...</th>\n",
       "      <th>sex_Female</th>\n",
       "      <th>sex_Male</th>\n",
       "      <th>skin_color_Black</th>\n",
       "      <th>skin_color_Brown</th>\n",
       "      <th>skin_color_Ignored</th>\n",
       "      <th>skin_color_Indigenous</th>\n",
       "      <th>skin_color_White</th>\n",
       "      <th>skin_color_Yellow</th>\n",
       "      <th>literate_No</th>\n",
       "      <th>literate_Yes</th>\n",
       "    </tr>\n",
       "  </thead>\n",
       "  <tbody>\n",
       "    <tr>\n",
       "      <th>0</th>\n",
       "      <td>0</td>\n",
       "      <td>0</td>\n",
       "      <td>0</td>\n",
       "      <td>0</td>\n",
       "      <td>0</td>\n",
       "      <td>0</td>\n",
       "      <td>0</td>\n",
       "      <td>0</td>\n",
       "      <td>0</td>\n",
       "      <td>0</td>\n",
       "      <td>...</td>\n",
       "      <td>1</td>\n",
       "      <td>0</td>\n",
       "      <td>0</td>\n",
       "      <td>1</td>\n",
       "      <td>0</td>\n",
       "      <td>0</td>\n",
       "      <td>0</td>\n",
       "      <td>0</td>\n",
       "      <td>0</td>\n",
       "      <td>1</td>\n",
       "    </tr>\n",
       "    <tr>\n",
       "      <th>1</th>\n",
       "      <td>0</td>\n",
       "      <td>0</td>\n",
       "      <td>0</td>\n",
       "      <td>0</td>\n",
       "      <td>0</td>\n",
       "      <td>0</td>\n",
       "      <td>0</td>\n",
       "      <td>0</td>\n",
       "      <td>0</td>\n",
       "      <td>0</td>\n",
       "      <td>...</td>\n",
       "      <td>1</td>\n",
       "      <td>0</td>\n",
       "      <td>0</td>\n",
       "      <td>1</td>\n",
       "      <td>0</td>\n",
       "      <td>0</td>\n",
       "      <td>0</td>\n",
       "      <td>0</td>\n",
       "      <td>0</td>\n",
       "      <td>1</td>\n",
       "    </tr>\n",
       "    <tr>\n",
       "      <th>12</th>\n",
       "      <td>0</td>\n",
       "      <td>0</td>\n",
       "      <td>0</td>\n",
       "      <td>0</td>\n",
       "      <td>0</td>\n",
       "      <td>0</td>\n",
       "      <td>0</td>\n",
       "      <td>0</td>\n",
       "      <td>0</td>\n",
       "      <td>0</td>\n",
       "      <td>...</td>\n",
       "      <td>0</td>\n",
       "      <td>1</td>\n",
       "      <td>0</td>\n",
       "      <td>1</td>\n",
       "      <td>0</td>\n",
       "      <td>0</td>\n",
       "      <td>0</td>\n",
       "      <td>0</td>\n",
       "      <td>0</td>\n",
       "      <td>1</td>\n",
       "    </tr>\n",
       "    <tr>\n",
       "      <th>14</th>\n",
       "      <td>0</td>\n",
       "      <td>0</td>\n",
       "      <td>0</td>\n",
       "      <td>0</td>\n",
       "      <td>0</td>\n",
       "      <td>0</td>\n",
       "      <td>0</td>\n",
       "      <td>0</td>\n",
       "      <td>0</td>\n",
       "      <td>0</td>\n",
       "      <td>...</td>\n",
       "      <td>0</td>\n",
       "      <td>1</td>\n",
       "      <td>0</td>\n",
       "      <td>1</td>\n",
       "      <td>0</td>\n",
       "      <td>0</td>\n",
       "      <td>0</td>\n",
       "      <td>0</td>\n",
       "      <td>0</td>\n",
       "      <td>1</td>\n",
       "    </tr>\n",
       "    <tr>\n",
       "      <th>16</th>\n",
       "      <td>0</td>\n",
       "      <td>0</td>\n",
       "      <td>0</td>\n",
       "      <td>0</td>\n",
       "      <td>0</td>\n",
       "      <td>0</td>\n",
       "      <td>0</td>\n",
       "      <td>0</td>\n",
       "      <td>0</td>\n",
       "      <td>0</td>\n",
       "      <td>...</td>\n",
       "      <td>0</td>\n",
       "      <td>1</td>\n",
       "      <td>0</td>\n",
       "      <td>0</td>\n",
       "      <td>0</td>\n",
       "      <td>0</td>\n",
       "      <td>1</td>\n",
       "      <td>0</td>\n",
       "      <td>0</td>\n",
       "      <td>1</td>\n",
       "    </tr>\n",
       "    <tr>\n",
       "      <th>...</th>\n",
       "      <td>...</td>\n",
       "      <td>...</td>\n",
       "      <td>...</td>\n",
       "      <td>...</td>\n",
       "      <td>...</td>\n",
       "      <td>...</td>\n",
       "      <td>...</td>\n",
       "      <td>...</td>\n",
       "      <td>...</td>\n",
       "      <td>...</td>\n",
       "      <td>...</td>\n",
       "      <td>...</td>\n",
       "      <td>...</td>\n",
       "      <td>...</td>\n",
       "      <td>...</td>\n",
       "      <td>...</td>\n",
       "      <td>...</td>\n",
       "      <td>...</td>\n",
       "      <td>...</td>\n",
       "      <td>...</td>\n",
       "      <td>...</td>\n",
       "    </tr>\n",
       "    <tr>\n",
       "      <th>1466383</th>\n",
       "      <td>0</td>\n",
       "      <td>0</td>\n",
       "      <td>0</td>\n",
       "      <td>0</td>\n",
       "      <td>0</td>\n",
       "      <td>0</td>\n",
       "      <td>1</td>\n",
       "      <td>0</td>\n",
       "      <td>0</td>\n",
       "      <td>0</td>\n",
       "      <td>...</td>\n",
       "      <td>0</td>\n",
       "      <td>1</td>\n",
       "      <td>0</td>\n",
       "      <td>0</td>\n",
       "      <td>0</td>\n",
       "      <td>0</td>\n",
       "      <td>1</td>\n",
       "      <td>0</td>\n",
       "      <td>0</td>\n",
       "      <td>1</td>\n",
       "    </tr>\n",
       "    <tr>\n",
       "      <th>1466384</th>\n",
       "      <td>0</td>\n",
       "      <td>0</td>\n",
       "      <td>0</td>\n",
       "      <td>0</td>\n",
       "      <td>0</td>\n",
       "      <td>0</td>\n",
       "      <td>1</td>\n",
       "      <td>0</td>\n",
       "      <td>0</td>\n",
       "      <td>0</td>\n",
       "      <td>...</td>\n",
       "      <td>1</td>\n",
       "      <td>0</td>\n",
       "      <td>1</td>\n",
       "      <td>0</td>\n",
       "      <td>0</td>\n",
       "      <td>0</td>\n",
       "      <td>0</td>\n",
       "      <td>0</td>\n",
       "      <td>0</td>\n",
       "      <td>1</td>\n",
       "    </tr>\n",
       "    <tr>\n",
       "      <th>1466385</th>\n",
       "      <td>0</td>\n",
       "      <td>0</td>\n",
       "      <td>0</td>\n",
       "      <td>0</td>\n",
       "      <td>0</td>\n",
       "      <td>0</td>\n",
       "      <td>1</td>\n",
       "      <td>0</td>\n",
       "      <td>0</td>\n",
       "      <td>0</td>\n",
       "      <td>...</td>\n",
       "      <td>1</td>\n",
       "      <td>0</td>\n",
       "      <td>0</td>\n",
       "      <td>0</td>\n",
       "      <td>0</td>\n",
       "      <td>0</td>\n",
       "      <td>1</td>\n",
       "      <td>0</td>\n",
       "      <td>0</td>\n",
       "      <td>1</td>\n",
       "    </tr>\n",
       "    <tr>\n",
       "      <th>1466386</th>\n",
       "      <td>0</td>\n",
       "      <td>0</td>\n",
       "      <td>0</td>\n",
       "      <td>0</td>\n",
       "      <td>0</td>\n",
       "      <td>0</td>\n",
       "      <td>1</td>\n",
       "      <td>0</td>\n",
       "      <td>0</td>\n",
       "      <td>0</td>\n",
       "      <td>...</td>\n",
       "      <td>0</td>\n",
       "      <td>1</td>\n",
       "      <td>0</td>\n",
       "      <td>1</td>\n",
       "      <td>0</td>\n",
       "      <td>0</td>\n",
       "      <td>0</td>\n",
       "      <td>0</td>\n",
       "      <td>0</td>\n",
       "      <td>1</td>\n",
       "    </tr>\n",
       "    <tr>\n",
       "      <th>1466390</th>\n",
       "      <td>0</td>\n",
       "      <td>0</td>\n",
       "      <td>0</td>\n",
       "      <td>0</td>\n",
       "      <td>0</td>\n",
       "      <td>0</td>\n",
       "      <td>1</td>\n",
       "      <td>0</td>\n",
       "      <td>0</td>\n",
       "      <td>0</td>\n",
       "      <td>...</td>\n",
       "      <td>0</td>\n",
       "      <td>1</td>\n",
       "      <td>0</td>\n",
       "      <td>1</td>\n",
       "      <td>0</td>\n",
       "      <td>0</td>\n",
       "      <td>0</td>\n",
       "      <td>0</td>\n",
       "      <td>0</td>\n",
       "      <td>1</td>\n",
       "    </tr>\n",
       "  </tbody>\n",
       "</table>\n",
       "<p>465277 rows × 37 columns</p>\n",
       "</div>"
      ],
      "text/plain": [
       "         uf_Acre  uf_Alagoas  uf_Amapá  uf_Amazonas  uf_Bahia  uf_Ceará  \\\n",
       "0              0           0         0            0         0         0   \n",
       "1              0           0         0            0         0         0   \n",
       "12             0           0         0            0         0         0   \n",
       "14             0           0         0            0         0         0   \n",
       "16             0           0         0            0         0         0   \n",
       "...          ...         ...       ...          ...       ...       ...   \n",
       "1466383        0           0         0            0         0         0   \n",
       "1466384        0           0         0            0         0         0   \n",
       "1466385        0           0         0            0         0         0   \n",
       "1466386        0           0         0            0         0         0   \n",
       "1466390        0           0         0            0         0         0   \n",
       "\n",
       "         uf_Distrito Federal  uf_EspÃ­rito Santo  uf_Goiás  uf_Maranhão  ...  \\\n",
       "0                          0                   0         0            0  ...   \n",
       "1                          0                   0         0            0  ...   \n",
       "12                         0                   0         0            0  ...   \n",
       "14                         0                   0         0            0  ...   \n",
       "16                         0                   0         0            0  ...   \n",
       "...                      ...                 ...       ...          ...  ...   \n",
       "1466383                    1                   0         0            0  ...   \n",
       "1466384                    1                   0         0            0  ...   \n",
       "1466385                    1                   0         0            0  ...   \n",
       "1466386                    1                   0         0            0  ...   \n",
       "1466390                    1                   0         0            0  ...   \n",
       "\n",
       "         sex_Female  sex_Male  skin_color_Black  skin_color_Brown  \\\n",
       "0                 1         0                 0                 1   \n",
       "1                 1         0                 0                 1   \n",
       "12                0         1                 0                 1   \n",
       "14                0         1                 0                 1   \n",
       "16                0         1                 0                 0   \n",
       "...             ...       ...               ...               ...   \n",
       "1466383           0         1                 0                 0   \n",
       "1466384           1         0                 1                 0   \n",
       "1466385           1         0                 0                 0   \n",
       "1466386           0         1                 0                 1   \n",
       "1466390           0         1                 0                 1   \n",
       "\n",
       "         skin_color_Ignored  skin_color_Indigenous  skin_color_White  \\\n",
       "0                         0                      0                 0   \n",
       "1                         0                      0                 0   \n",
       "12                        0                      0                 0   \n",
       "14                        0                      0                 0   \n",
       "16                        0                      0                 1   \n",
       "...                     ...                    ...               ...   \n",
       "1466383                   0                      0                 1   \n",
       "1466384                   0                      0                 0   \n",
       "1466385                   0                      0                 1   \n",
       "1466386                   0                      0                 0   \n",
       "1466390                   0                      0                 0   \n",
       "\n",
       "         skin_color_Yellow  literate_No  literate_Yes  \n",
       "0                        0            0             1  \n",
       "1                        0            0             1  \n",
       "12                       0            0             1  \n",
       "14                       0            0             1  \n",
       "16                       0            0             1  \n",
       "...                    ...          ...           ...  \n",
       "1466383                  0            0             1  \n",
       "1466384                  0            0             1  \n",
       "1466385                  0            0             1  \n",
       "1466386                  0            0             1  \n",
       "1466390                  0            0             1  \n",
       "\n",
       "[465277 rows x 37 columns]"
      ]
     },
     "execution_count": 43,
     "metadata": {},
     "output_type": "execute_result"
    }
   ],
   "source": [
    "encoded = pd.get_dummies(subset[['uf', 'sex', 'skin_color', 'literate']])\n",
    "encoded"
   ]
  },
  {
   "cell_type": "code",
   "execution_count": 44,
   "id": "d85d6ef5-a894-476b-bf1f-09789f4081c9",
   "metadata": {},
   "outputs": [
    {
     "name": "stderr",
     "output_type": "stream",
     "text": [
      "/home/blinder/anaconda3/lib/python3.9/site-packages/pandas/core/frame.py:4906: SettingWithCopyWarning: \n",
      "A value is trying to be set on a copy of a slice from a DataFrame\n",
      "\n",
      "See the caveats in the documentation: https://pandas.pydata.org/pandas-docs/stable/user_guide/indexing.html#returning-a-view-versus-a-copy\n",
      "  return super().drop(\n"
     ]
    },
    {
     "data": {
      "text/html": [
       "<div>\n",
       "<style scoped>\n",
       "    .dataframe tbody tr th:only-of-type {\n",
       "        vertical-align: middle;\n",
       "    }\n",
       "\n",
       "    .dataframe tbody tr th {\n",
       "        vertical-align: top;\n",
       "    }\n",
       "\n",
       "    .dataframe thead th {\n",
       "        text-align: right;\n",
       "    }\n",
       "</style>\n",
       "<table border=\"1\" class=\"dataframe\">\n",
       "  <thead>\n",
       "    <tr style=\"text-align: right;\">\n",
       "      <th></th>\n",
       "      <th>year</th>\n",
       "      <th>age</th>\n",
       "      <th>years_in_education</th>\n",
       "      <th>income</th>\n",
       "      <th>weekly_working_hours</th>\n",
       "      <th>sample_weight</th>\n",
       "      <th>uf_Acre</th>\n",
       "      <th>uf_Alagoas</th>\n",
       "      <th>uf_Amapá</th>\n",
       "      <th>uf_Amazonas</th>\n",
       "      <th>...</th>\n",
       "      <th>sex_Female</th>\n",
       "      <th>sex_Male</th>\n",
       "      <th>skin_color_Black</th>\n",
       "      <th>skin_color_Brown</th>\n",
       "      <th>skin_color_Ignored</th>\n",
       "      <th>skin_color_Indigenous</th>\n",
       "      <th>skin_color_White</th>\n",
       "      <th>skin_color_Yellow</th>\n",
       "      <th>literate_No</th>\n",
       "      <th>literate_Yes</th>\n",
       "    </tr>\n",
       "  </thead>\n",
       "  <tbody>\n",
       "    <tr>\n",
       "      <th>0</th>\n",
       "      <td>2021</td>\n",
       "      <td>39</td>\n",
       "      <td>5.0</td>\n",
       "      <td>1045.0</td>\n",
       "      <td>40.0</td>\n",
       "      <td>107.066353</td>\n",
       "      <td>0</td>\n",
       "      <td>0</td>\n",
       "      <td>0</td>\n",
       "      <td>0</td>\n",
       "      <td>...</td>\n",
       "      <td>1</td>\n",
       "      <td>0</td>\n",
       "      <td>0</td>\n",
       "      <td>1</td>\n",
       "      <td>0</td>\n",
       "      <td>0</td>\n",
       "      <td>0</td>\n",
       "      <td>0</td>\n",
       "      <td>0</td>\n",
       "      <td>1</td>\n",
       "    </tr>\n",
       "    <tr>\n",
       "      <th>1</th>\n",
       "      <td>2021</td>\n",
       "      <td>20</td>\n",
       "      <td>10.0</td>\n",
       "      <td>1045.0</td>\n",
       "      <td>40.0</td>\n",
       "      <td>107.066353</td>\n",
       "      <td>0</td>\n",
       "      <td>0</td>\n",
       "      <td>0</td>\n",
       "      <td>0</td>\n",
       "      <td>...</td>\n",
       "      <td>1</td>\n",
       "      <td>0</td>\n",
       "      <td>0</td>\n",
       "      <td>1</td>\n",
       "      <td>0</td>\n",
       "      <td>0</td>\n",
       "      <td>0</td>\n",
       "      <td>0</td>\n",
       "      <td>0</td>\n",
       "      <td>1</td>\n",
       "    </tr>\n",
       "    <tr>\n",
       "      <th>12</th>\n",
       "      <td>2021</td>\n",
       "      <td>51</td>\n",
       "      <td>12.0</td>\n",
       "      <td>1600.0</td>\n",
       "      <td>40.0</td>\n",
       "      <td>123.685250</td>\n",
       "      <td>0</td>\n",
       "      <td>0</td>\n",
       "      <td>0</td>\n",
       "      <td>0</td>\n",
       "      <td>...</td>\n",
       "      <td>0</td>\n",
       "      <td>1</td>\n",
       "      <td>0</td>\n",
       "      <td>1</td>\n",
       "      <td>0</td>\n",
       "      <td>0</td>\n",
       "      <td>0</td>\n",
       "      <td>0</td>\n",
       "      <td>0</td>\n",
       "      <td>1</td>\n",
       "    </tr>\n",
       "    <tr>\n",
       "      <th>14</th>\n",
       "      <td>2021</td>\n",
       "      <td>26</td>\n",
       "      <td>14.0</td>\n",
       "      <td>1045.0</td>\n",
       "      <td>48.0</td>\n",
       "      <td>123.685250</td>\n",
       "      <td>0</td>\n",
       "      <td>0</td>\n",
       "      <td>0</td>\n",
       "      <td>0</td>\n",
       "      <td>...</td>\n",
       "      <td>0</td>\n",
       "      <td>1</td>\n",
       "      <td>0</td>\n",
       "      <td>1</td>\n",
       "      <td>0</td>\n",
       "      <td>0</td>\n",
       "      <td>0</td>\n",
       "      <td>0</td>\n",
       "      <td>0</td>\n",
       "      <td>1</td>\n",
       "    </tr>\n",
       "    <tr>\n",
       "      <th>16</th>\n",
       "      <td>2021</td>\n",
       "      <td>55</td>\n",
       "      <td>12.0</td>\n",
       "      <td>1500.0</td>\n",
       "      <td>48.0</td>\n",
       "      <td>122.160361</td>\n",
       "      <td>0</td>\n",
       "      <td>0</td>\n",
       "      <td>0</td>\n",
       "      <td>0</td>\n",
       "      <td>...</td>\n",
       "      <td>0</td>\n",
       "      <td>1</td>\n",
       "      <td>0</td>\n",
       "      <td>0</td>\n",
       "      <td>0</td>\n",
       "      <td>0</td>\n",
       "      <td>1</td>\n",
       "      <td>0</td>\n",
       "      <td>0</td>\n",
       "      <td>1</td>\n",
       "    </tr>\n",
       "    <tr>\n",
       "      <th>...</th>\n",
       "      <td>...</td>\n",
       "      <td>...</td>\n",
       "      <td>...</td>\n",
       "      <td>...</td>\n",
       "      <td>...</td>\n",
       "      <td>...</td>\n",
       "      <td>...</td>\n",
       "      <td>...</td>\n",
       "      <td>...</td>\n",
       "      <td>...</td>\n",
       "      <td>...</td>\n",
       "      <td>...</td>\n",
       "      <td>...</td>\n",
       "      <td>...</td>\n",
       "      <td>...</td>\n",
       "      <td>...</td>\n",
       "      <td>...</td>\n",
       "      <td>...</td>\n",
       "      <td>...</td>\n",
       "      <td>...</td>\n",
       "      <td>...</td>\n",
       "    </tr>\n",
       "    <tr>\n",
       "      <th>1466383</th>\n",
       "      <td>2021</td>\n",
       "      <td>60</td>\n",
       "      <td>8.0</td>\n",
       "      <td>1200.0</td>\n",
       "      <td>44.0</td>\n",
       "      <td>22.616913</td>\n",
       "      <td>0</td>\n",
       "      <td>0</td>\n",
       "      <td>0</td>\n",
       "      <td>0</td>\n",
       "      <td>...</td>\n",
       "      <td>0</td>\n",
       "      <td>1</td>\n",
       "      <td>0</td>\n",
       "      <td>0</td>\n",
       "      <td>0</td>\n",
       "      <td>0</td>\n",
       "      <td>1</td>\n",
       "      <td>0</td>\n",
       "      <td>0</td>\n",
       "      <td>1</td>\n",
       "    </tr>\n",
       "    <tr>\n",
       "      <th>1466384</th>\n",
       "      <td>2021</td>\n",
       "      <td>60</td>\n",
       "      <td>12.0</td>\n",
       "      <td>1000.0</td>\n",
       "      <td>44.0</td>\n",
       "      <td>22.616913</td>\n",
       "      <td>0</td>\n",
       "      <td>0</td>\n",
       "      <td>0</td>\n",
       "      <td>0</td>\n",
       "      <td>...</td>\n",
       "      <td>1</td>\n",
       "      <td>0</td>\n",
       "      <td>1</td>\n",
       "      <td>0</td>\n",
       "      <td>0</td>\n",
       "      <td>0</td>\n",
       "      <td>0</td>\n",
       "      <td>0</td>\n",
       "      <td>0</td>\n",
       "      <td>1</td>\n",
       "    </tr>\n",
       "    <tr>\n",
       "      <th>1466385</th>\n",
       "      <td>2021</td>\n",
       "      <td>43</td>\n",
       "      <td>16.0</td>\n",
       "      <td>1100.0</td>\n",
       "      <td>44.0</td>\n",
       "      <td>30.221221</td>\n",
       "      <td>0</td>\n",
       "      <td>0</td>\n",
       "      <td>0</td>\n",
       "      <td>0</td>\n",
       "      <td>...</td>\n",
       "      <td>1</td>\n",
       "      <td>0</td>\n",
       "      <td>0</td>\n",
       "      <td>0</td>\n",
       "      <td>0</td>\n",
       "      <td>0</td>\n",
       "      <td>1</td>\n",
       "      <td>0</td>\n",
       "      <td>0</td>\n",
       "      <td>1</td>\n",
       "    </tr>\n",
       "    <tr>\n",
       "      <th>1466386</th>\n",
       "      <td>2021</td>\n",
       "      <td>46</td>\n",
       "      <td>12.0</td>\n",
       "      <td>2000.0</td>\n",
       "      <td>40.0</td>\n",
       "      <td>30.221221</td>\n",
       "      <td>0</td>\n",
       "      <td>0</td>\n",
       "      <td>0</td>\n",
       "      <td>0</td>\n",
       "      <td>...</td>\n",
       "      <td>0</td>\n",
       "      <td>1</td>\n",
       "      <td>0</td>\n",
       "      <td>1</td>\n",
       "      <td>0</td>\n",
       "      <td>0</td>\n",
       "      <td>0</td>\n",
       "      <td>0</td>\n",
       "      <td>0</td>\n",
       "      <td>1</td>\n",
       "    </tr>\n",
       "    <tr>\n",
       "      <th>1466390</th>\n",
       "      <td>2021</td>\n",
       "      <td>32</td>\n",
       "      <td>13.0</td>\n",
       "      <td>1000.0</td>\n",
       "      <td>40.0</td>\n",
       "      <td>39.647165</td>\n",
       "      <td>0</td>\n",
       "      <td>0</td>\n",
       "      <td>0</td>\n",
       "      <td>0</td>\n",
       "      <td>...</td>\n",
       "      <td>0</td>\n",
       "      <td>1</td>\n",
       "      <td>0</td>\n",
       "      <td>1</td>\n",
       "      <td>0</td>\n",
       "      <td>0</td>\n",
       "      <td>0</td>\n",
       "      <td>0</td>\n",
       "      <td>0</td>\n",
       "      <td>1</td>\n",
       "    </tr>\n",
       "  </tbody>\n",
       "</table>\n",
       "<p>465277 rows × 43 columns</p>\n",
       "</div>"
      ],
      "text/plain": [
       "         year  age  years_in_education  income  weekly_working_hours  \\\n",
       "0        2021   39                 5.0  1045.0                  40.0   \n",
       "1        2021   20                10.0  1045.0                  40.0   \n",
       "12       2021   51                12.0  1600.0                  40.0   \n",
       "14       2021   26                14.0  1045.0                  48.0   \n",
       "16       2021   55                12.0  1500.0                  48.0   \n",
       "...       ...  ...                 ...     ...                   ...   \n",
       "1466383  2021   60                 8.0  1200.0                  44.0   \n",
       "1466384  2021   60                12.0  1000.0                  44.0   \n",
       "1466385  2021   43                16.0  1100.0                  44.0   \n",
       "1466386  2021   46                12.0  2000.0                  40.0   \n",
       "1466390  2021   32                13.0  1000.0                  40.0   \n",
       "\n",
       "         sample_weight  uf_Acre  uf_Alagoas  uf_Amapá  uf_Amazonas  ...  \\\n",
       "0           107.066353        0           0         0            0  ...   \n",
       "1           107.066353        0           0         0            0  ...   \n",
       "12          123.685250        0           0         0            0  ...   \n",
       "14          123.685250        0           0         0            0  ...   \n",
       "16          122.160361        0           0         0            0  ...   \n",
       "...                ...      ...         ...       ...          ...  ...   \n",
       "1466383      22.616913        0           0         0            0  ...   \n",
       "1466384      22.616913        0           0         0            0  ...   \n",
       "1466385      30.221221        0           0         0            0  ...   \n",
       "1466386      30.221221        0           0         0            0  ...   \n",
       "1466390      39.647165        0           0         0            0  ...   \n",
       "\n",
       "         sex_Female  sex_Male  skin_color_Black  skin_color_Brown  \\\n",
       "0                 1         0                 0                 1   \n",
       "1                 1         0                 0                 1   \n",
       "12                0         1                 0                 1   \n",
       "14                0         1                 0                 1   \n",
       "16                0         1                 0                 0   \n",
       "...             ...       ...               ...               ...   \n",
       "1466383           0         1                 0                 0   \n",
       "1466384           1         0                 1                 0   \n",
       "1466385           1         0                 0                 0   \n",
       "1466386           0         1                 0                 1   \n",
       "1466390           0         1                 0                 1   \n",
       "\n",
       "         skin_color_Ignored  skin_color_Indigenous  skin_color_White  \\\n",
       "0                         0                      0                 0   \n",
       "1                         0                      0                 0   \n",
       "12                        0                      0                 0   \n",
       "14                        0                      0                 0   \n",
       "16                        0                      0                 1   \n",
       "...                     ...                    ...               ...   \n",
       "1466383                   0                      0                 1   \n",
       "1466384                   0                      0                 0   \n",
       "1466385                   0                      0                 1   \n",
       "1466386                   0                      0                 0   \n",
       "1466390                   0                      0                 0   \n",
       "\n",
       "         skin_color_Yellow  literate_No  literate_Yes  \n",
       "0                        0            0             1  \n",
       "1                        0            0             1  \n",
       "12                       0            0             1  \n",
       "14                       0            0             1  \n",
       "16                       0            0             1  \n",
       "...                    ...          ...           ...  \n",
       "1466383                  0            0             1  \n",
       "1466384                  0            0             1  \n",
       "1466385                  0            0             1  \n",
       "1466386                  0            0             1  \n",
       "1466390                  0            0             1  \n",
       "\n",
       "[465277 rows x 43 columns]"
      ]
     },
     "execution_count": 44,
     "metadata": {},
     "output_type": "execute_result"
    }
   ],
   "source": [
    "subset.drop(['uf', 'sex', 'skin_color', 'literate'], axis=1, inplace=True)\n",
    "subset = subset.join(encoded)\n",
    "subset"
   ]
  },
  {
   "cell_type": "code",
   "execution_count": 45,
   "id": "6bc798f8-02e0-4381-b8e7-85888226d67e",
   "metadata": {},
   "outputs": [],
   "source": [
    "x_train, x_test, y_train, y_test = train_test_split(subset.drop(['income'], axis=1), subset['income'], random_state=4, test_size=0.2)"
   ]
  },
  {
   "cell_type": "code",
   "execution_count": 46,
   "id": "4dd542b2-8ce1-4ba2-8abf-ff33c00fda3b",
   "metadata": {},
   "outputs": [],
   "source": [
    "scaler = MinMaxScaler()\n",
    "x_train = pd.DataFrame(scaler.fit_transform(x_train), columns=x_train.columns, index=x_train.index)\n",
    "x_test = pd.DataFrame(scaler.fit_transform(x_test), columns=x_test.columns, index=x_test.index)"
   ]
  },
  {
   "cell_type": "code",
   "execution_count": 47,
   "id": "26a928c6-9bd7-4163-b742-9ef6d25a69f8",
   "metadata": {},
   "outputs": [
    {
     "name": "stdout",
     "output_type": "stream",
     "text": [
      "751.3323349873513 573.6079914245186\n"
     ]
    }
   ],
   "source": [
    "lr = LinearRegression()\n",
    "lr.fit(x_train, y_train)\n",
    "y_pred = lr.predict(x_test)\n",
    "lr_rmse = np.sqrt(mean_squared_error(y_test, y_pred))\n",
    "lr_mae = mean_absolute_error(y_test, y_pred)\n",
    "print(lr_rmse, lr_mae)"
   ]
  },
  {
   "cell_type": "code",
   "execution_count": 48,
   "id": "8191baca-c512-4e90-a9c3-70e34587187b",
   "metadata": {},
   "outputs": [
    {
     "name": "stdout",
     "output_type": "stream",
     "text": [
      "726.3858706750668 537.2628413331246\n"
     ]
    }
   ],
   "source": [
    "rf = RandomForestRegressor(n_estimators = 20)\n",
    "rf.fit(x_train, y_train)\n",
    "y_pred = rf.predict(x_test)\n",
    "rf_rmse = np.sqrt(mean_squared_error(y_test, y_pred))\n",
    "rf_mae = mean_absolute_error(y_test, y_pred)\n",
    "print(rf_rmse, rf_mae)"
   ]
  },
  {
   "cell_type": "code",
   "execution_count": 49,
   "id": "baab8a90-da16-45cf-9fd5-d197433ff9ce",
   "metadata": {},
   "outputs": [
    {
     "name": "stdout",
     "output_type": "stream",
     "text": [
      "710.4772790678561 530.5001106413832\n"
     ]
    }
   ],
   "source": [
    "xgb = XGBRegressor()\n",
    "xgb.fit(x_train, y_train)\n",
    "xgb.score(x_train, y_train)\n",
    "y_pred = xgb.predict(x_test)\n",
    "xgb_rmse = np.sqrt(mean_squared_error(y_test, y_pred))\n",
    "xgb_mae = mean_absolute_error(y_test, y_pred)\n",
    "print(xgb_rmse, xgb_mae)"
   ]
  },
  {
   "cell_type": "code",
   "execution_count": 56,
   "id": "484b654d-3fdd-4d26-aa75-69638bb499fc",
   "metadata": {},
   "outputs": [
    {
     "data": {
      "text/html": [
       "<div>\n",
       "<style scoped>\n",
       "    .dataframe tbody tr th:only-of-type {\n",
       "        vertical-align: middle;\n",
       "    }\n",
       "\n",
       "    .dataframe tbody tr th {\n",
       "        vertical-align: top;\n",
       "    }\n",
       "\n",
       "    .dataframe thead th {\n",
       "        text-align: right;\n",
       "    }\n",
       "</style>\n",
       "<table border=\"1\" class=\"dataframe\">\n",
       "  <thead>\n",
       "    <tr style=\"text-align: right;\">\n",
       "      <th></th>\n",
       "      <th>rmse</th>\n",
       "      <th>mae</th>\n",
       "    </tr>\n",
       "  </thead>\n",
       "  <tbody>\n",
       "    <tr>\n",
       "      <th>linear_regression</th>\n",
       "      <td>751.332335</td>\n",
       "      <td>573.607991</td>\n",
       "    </tr>\n",
       "    <tr>\n",
       "      <th>random_forest</th>\n",
       "      <td>726.385871</td>\n",
       "      <td>537.262841</td>\n",
       "    </tr>\n",
       "    <tr>\n",
       "      <th>xgboost</th>\n",
       "      <td>710.477279</td>\n",
       "      <td>530.500111</td>\n",
       "    </tr>\n",
       "  </tbody>\n",
       "</table>\n",
       "</div>"
      ],
      "text/plain": [
       "                         rmse         mae\n",
       "linear_regression  751.332335  573.607991\n",
       "random_forest      726.385871  537.262841\n",
       "xgboost            710.477279  530.500111"
      ]
     },
     "execution_count": 56,
     "metadata": {},
     "output_type": "execute_result"
    }
   ],
   "source": [
    "results = {'rmse': [lr_rmse, rf_rmse, xgb_rmse], 'mae': [lr_mae, rf_mae, xgb_mae]}\n",
    "results = pd.DataFrame(results, columns=['rmse', 'mae'], index=['linear_regression', 'random_forest', 'xgboost'])\n",
    "results"
   ]
  },
  {
   "cell_type": "code",
   "execution_count": 57,
   "id": "23f9e820-02d2-4b67-b0b3-245a1d74c331",
   "metadata": {},
   "outputs": [
    {
     "data": {
      "text/plain": [
       "<AxesSubplot:title={'center':'Regressors Performance'}>"
      ]
     },
     "execution_count": 57,
     "metadata": {},
     "output_type": "execute_result"
    },
    {
     "data": {
      "image/png": "[encoded data removed]",
      "text/plain": [
       "<Figure size 432x288 with 1 Axes>"
      ]
     },
     "metadata": {},
     "output_type": "display_data"
    }
   ],
   "source": [
    "results.plot.bar(title='Regressors Performance')"
   ]
  }
 ],
 "metadata": {
  "kernelspec": {
   "display_name": "Python 3 (ipykernel)",
   "language": "python",
   "name": "python3"
  },
  "language_info": {
   "codemirror_mode": {
    "name": "ipython",
    "version": 3
   },
   "file_extension": ".py",
   "mimetype": "text/x-python",
   "name": "python",
   "nbconvert_exporter": "python",
   "pygments_lexer": "ipython3",
   "version": "3.9.7"
  }
 },
 "nbformat": 4,
 "nbformat_minor": 5
}
